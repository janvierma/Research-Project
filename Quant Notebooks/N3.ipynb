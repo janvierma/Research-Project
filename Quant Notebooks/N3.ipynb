{
 "cells": [
  {
   "cell_type": "markdown",
   "metadata": {},
   "source": [
    "# Introduction to NumPy\n",
    "by Maxwell Margenot\n",
    "\n",
    "Part of the Quantopian Lecture Series:\n",
    "\n",
    "* [www.quantopian.com/lectures](https://www.quantopian.com/lectures)\n",
    "* [github.com/quantopian/research_public](https://github.com/quantopian/research_public)\n",
    "\n",
    "Notebook released under the Creative Commons Attribution 4.0 License."
   ]
  },
  {
   "cell_type": "markdown",
   "metadata": {},
   "source": [
    "NumPy is an incredibly powerful package in Python that is ubiquitous throughout the Quantopian platform. It has strong integration with Pandas, another tool we will be covering in the lecture series. NumPy adds support for multi-dimensional arrays and mathematical functions that allow you to easily perform linear algebra calculations. This lecture will be a collection of linear algebra examples computed using NumPy."
   ]
  },
  {
   "cell_type": "code",
   "execution_count": 145,
   "metadata": {
    "collapsed": true
   },
   "outputs": [],
   "source": [
    "import numpy as np\n",
    "import matplotlib.pyplot as plt"
   ]
  },
  {
   "cell_type": "markdown",
   "metadata": {},
   "source": [
    "### Basic NumPy arrays"
   ]
  },
  {
   "cell_type": "markdown",
   "metadata": {},
   "source": [
    "The most basic way that we could make use of NumPy in finance is calculating the mean return of a portfolio. Say that we have a list containing the historical return of several stocks."
   ]
  },
  {
   "cell_type": "code",
   "execution_count": 146,
   "metadata": {
    "collapsed": true
   },
   "outputs": [
    {
     "name": "stdout",
     "output_type": "stream",
     "text": [
      "[3.5, 5, 2, 8, 4.2]\n"
     ]
    },
    {
     "data": {
      "text/plain": [
       "(None, list)"
      ]
     },
     "execution_count": 146,
     "metadata": {},
     "output_type": "execute_result"
    }
   ],
   "source": [
    "stock_list = [3.5, 5, 2, 8, 4.2]\n",
    "print(stock_list), type(stock_list)"
   ]
  },
  {
   "cell_type": "markdown",
   "metadata": {},
   "source": [
    "We can make an array by calling a function on the list:"
   ]
  },
  {
   "cell_type": "code",
   "execution_count": 147,
   "metadata": {
    "collapsed": false
   },
   "outputs": [
    {
     "name": "stdout",
     "output_type": "stream",
     "text": [
      "[3.5 5.  2.  8.  4.2]\n"
     ]
    },
    {
     "data": {
      "text/plain": [
       "(None, numpy.ndarray)"
      ]
     },
     "execution_count": 147,
     "metadata": {},
     "output_type": "execute_result"
    }
   ],
   "source": [
    "returns = np.array(stock_list)\n",
    "print (returns), type(returns)"
   ]
  },
  {
   "cell_type": "markdown",
   "metadata": {},
   "source": [
    "You'll notice that the type of our array is 'ndarray', not just 'array'. This is because NumPy arrays can be created with multiple dimensions. If we pass np.array() a list of lists, it will create a 2-dimensional array. If we pass a list of lists of lists, it will create a 3-dimensional array, and so on and so forth."
   ]
  },
  {
   "cell_type": "code",
   "execution_count": 148,
   "metadata": {
    "collapsed": false
   },
   "outputs": [
    {
     "name": "stdout",
     "output_type": "stream",
     "text": [
      "[[1 2]\n",
      " [3 4]]\n"
     ]
    },
    {
     "data": {
      "text/plain": [
       "(None, numpy.ndarray)"
      ]
     },
     "execution_count": 148,
     "metadata": {},
     "output_type": "execute_result"
    }
   ],
   "source": [
    "A = np.array([[1, 2], [3, 4]])\n",
    "print (A), type(A)"
   ]
  },
  {
   "cell_type": "markdown",
   "metadata": {},
   "source": [
    "We can access the dimensions of an array by looking at its `shape` member variable."
   ]
  },
  {
   "cell_type": "code",
   "execution_count": 149,
   "metadata": {
    "collapsed": false
   },
   "outputs": [
    {
     "data": {
      "text/plain": [
       "<function ndarray.std>"
      ]
     },
     "execution_count": 149,
     "metadata": {},
     "output_type": "execute_result"
    }
   ],
   "source": [
    "A.std"
   ]
  },
  {
   "cell_type": "code",
   "execution_count": 150,
   "metadata": {},
   "outputs": [
    {
     "name": "stdout",
     "output_type": "stream",
     "text": [
      "\u001b[1;31mSignature:\u001b[0m\n",
      "\u001b[0mnp\u001b[0m\u001b[1;33m.\u001b[0m\u001b[0mstd\u001b[0m\u001b[1;33m(\u001b[0m\u001b[1;33m\n",
      "\u001b[0m    \u001b[0ma\u001b[0m\u001b[1;33m,\u001b[0m\u001b[1;33m\n",
      "\u001b[0m    \u001b[0maxis\u001b[0m\u001b[1;33m=\u001b[0m\u001b[1;32mNone\u001b[0m\u001b[1;33m,\u001b[0m\u001b[1;33m\n",
      "\u001b[0m    \u001b[0mdtype\u001b[0m\u001b[1;33m=\u001b[0m\u001b[1;32mNone\u001b[0m\u001b[1;33m,\u001b[0m\u001b[1;33m\n",
      "\u001b[0m    \u001b[0mout\u001b[0m\u001b[1;33m=\u001b[0m\u001b[1;32mNone\u001b[0m\u001b[1;33m,\u001b[0m\u001b[1;33m\n",
      "\u001b[0m    \u001b[0mddof\u001b[0m\u001b[1;33m=\u001b[0m\u001b[1;36m0\u001b[0m\u001b[1;33m,\u001b[0m\u001b[1;33m\n",
      "\u001b[0m    \u001b[0mkeepdims\u001b[0m\u001b[1;33m=\u001b[0m\u001b[1;33m<\u001b[0m\u001b[0mno\u001b[0m \u001b[0mvalue\u001b[0m\u001b[1;33m>\u001b[0m\u001b[1;33m,\u001b[0m\u001b[1;33m\n",
      "\u001b[0m    \u001b[1;33m*\u001b[0m\u001b[1;33m,\u001b[0m\u001b[1;33m\n",
      "\u001b[0m    \u001b[0mwhere\u001b[0m\u001b[1;33m=\u001b[0m\u001b[1;33m<\u001b[0m\u001b[0mno\u001b[0m \u001b[0mvalue\u001b[0m\u001b[1;33m>\u001b[0m\u001b[1;33m,\u001b[0m\u001b[1;33m\n",
      "\u001b[0m\u001b[1;33m)\u001b[0m\u001b[1;33m\u001b[0m\u001b[1;33m\u001b[0m\u001b[0m\n",
      "\u001b[1;31mDocstring:\u001b[0m\n",
      "Compute the standard deviation along the specified axis.\n",
      "\n",
      "Returns the standard deviation, a measure of the spread of a distribution,\n",
      "of the array elements. The standard deviation is computed for the\n",
      "flattened array by default, otherwise over the specified axis.\n",
      "\n",
      "Parameters\n",
      "----------\n",
      "a : array_like\n",
      "    Calculate the standard deviation of these values.\n",
      "axis : None or int or tuple of ints, optional\n",
      "    Axis or axes along which the standard deviation is computed. The\n",
      "    default is to compute the standard deviation of the flattened array.\n",
      "\n",
      "    .. versionadded:: 1.7.0\n",
      "\n",
      "    If this is a tuple of ints, a standard deviation is performed over\n",
      "    multiple axes, instead of a single axis or all the axes as before.\n",
      "dtype : dtype, optional\n",
      "    Type to use in computing the standard deviation. For arrays of\n",
      "    integer type the default is float64, for arrays of float types it is\n",
      "    the same as the array type.\n",
      "out : ndarray, optional\n",
      "    Alternative output array in which to place the result. It must have\n",
      "    the same shape as the expected output but the type (of the calculated\n",
      "    values) will be cast if necessary.\n",
      "ddof : int, optional\n",
      "    Means Delta Degrees of Freedom.  The divisor used in calculations\n",
      "    is ``N - ddof``, where ``N`` represents the number of elements.\n",
      "    By default `ddof` is zero.\n",
      "keepdims : bool, optional\n",
      "    If this is set to True, the axes which are reduced are left\n",
      "    in the result as dimensions with size one. With this option,\n",
      "    the result will broadcast correctly against the input array.\n",
      "\n",
      "    If the default value is passed, then `keepdims` will not be\n",
      "    passed through to the `std` method of sub-classes of\n",
      "    `ndarray`, however any non-default value will be.  If the\n",
      "    sub-class' method does not implement `keepdims` any\n",
      "    exceptions will be raised.\n",
      "\n",
      "where : array_like of bool, optional\n",
      "    Elements to include in the standard deviation.\n",
      "    See `~numpy.ufunc.reduce` for details.\n",
      "\n",
      "    .. versionadded:: 1.20.0\n",
      "\n",
      "Returns\n",
      "-------\n",
      "standard_deviation : ndarray, see dtype parameter above.\n",
      "    If `out` is None, return a new array containing the standard deviation,\n",
      "    otherwise return a reference to the output array.\n",
      "\n",
      "See Also\n",
      "--------\n",
      "var, mean, nanmean, nanstd, nanvar\n",
      ":ref:`ufuncs-output-type`\n",
      "\n",
      "Notes\n",
      "-----\n",
      "The standard deviation is the square root of the average of the squared\n",
      "deviations from the mean, i.e., ``std = sqrt(mean(x))``, where\n",
      "``x = abs(a - a.mean())**2``.\n",
      "\n",
      "The average squared deviation is typically calculated as ``x.sum() / N``,\n",
      "where ``N = len(x)``. If, however, `ddof` is specified, the divisor\n",
      "``N - ddof`` is used instead. In standard statistical practice, ``ddof=1``\n",
      "provides an unbiased estimator of the variance of the infinite population.\n",
      "``ddof=0`` provides a maximum likelihood estimate of the variance for\n",
      "normally distributed variables. The standard deviation computed in this\n",
      "function is the square root of the estimated variance, so even with\n",
      "``ddof=1``, it will not be an unbiased estimate of the standard deviation\n",
      "per se.\n",
      "\n",
      "Note that, for complex numbers, `std` takes the absolute\n",
      "value before squaring, so that the result is always real and nonnegative.\n",
      "\n",
      "For floating-point input, the *std* is computed using the same\n",
      "precision the input has. Depending on the input data, this can cause\n",
      "the results to be inaccurate, especially for float32 (see example below).\n",
      "Specifying a higher-accuracy accumulator using the `dtype` keyword can\n",
      "alleviate this issue.\n",
      "\n",
      "Examples\n",
      "--------\n",
      ">>> a = np.array([[1, 2], [3, 4]])\n",
      ">>> np.std(a)\n",
      "1.1180339887498949 # may vary\n",
      ">>> np.std(a, axis=0)\n",
      "array([1.,  1.])\n",
      ">>> np.std(a, axis=1)\n",
      "array([0.5,  0.5])\n",
      "\n",
      "In single precision, std() can be inaccurate:\n",
      "\n",
      ">>> a = np.zeros((2, 512*512), dtype=np.float32)\n",
      ">>> a[0, :] = 1.0\n",
      ">>> a[1, :] = 0.1\n",
      ">>> np.std(a)\n",
      "0.45000005\n",
      "\n",
      "Computing the standard deviation in float64 is more accurate:\n",
      "\n",
      ">>> np.std(a, dtype=np.float64)\n",
      "0.44999999925494177 # may vary\n",
      "\n",
      "Specifying a where argument:\n",
      "\n",
      ">>> a = np.array([[14, 8, 11, 10], [7, 9, 10, 11], [10, 15, 5, 10]])\n",
      ">>> np.std(a)\n",
      "2.614064523559687 # may vary\n",
      ">>> np.std(a, where=[[True], [True], [False]])\n",
      "2.0\n",
      "\u001b[1;31mFile:\u001b[0m      c:\\users\\kemil\\appdata\\local\\programs\\python\\python310\\lib\\site-packages\\numpy\\core\\fromnumeric.py\n",
      "\u001b[1;31mType:\u001b[0m      function\n"
     ]
    }
   ],
   "source": [
    "np.std?\n"
   ]
  },
  {
   "cell_type": "markdown",
   "metadata": {},
   "source": [
    "Arrays are indexed in much the same way as lists in Python. Elements of a list begin indexing from $0$ and end at $n - 1$, where $n$ is the length of the array."
   ]
  },
  {
   "cell_type": "code",
   "execution_count": 151,
   "metadata": {},
   "outputs": [
    {
     "name": "stdout",
     "output_type": "stream",
     "text": [
      "3.5\n"
     ]
    },
    {
     "data": {
      "text/plain": [
       "(None, 4.2)"
      ]
     },
     "execution_count": 151,
     "metadata": {},
     "output_type": "execute_result"
    }
   ],
   "source": [
    "print (returns[0]), returns[len(returns) - 1]"
   ]
  },
  {
   "cell_type": "code",
   "execution_count": 152,
   "metadata": {
    "collapsed": false
   },
   "outputs": [
    {
     "data": {
      "text/plain": [
       "(3.5, 4.2)"
      ]
     },
     "execution_count": 152,
     "metadata": {},
     "output_type": "execute_result"
    }
   ],
   "source": [
    "returns[0], returns[len(returns) - 1]"
   ]
  },
  {
   "cell_type": "markdown",
   "metadata": {},
   "source": [
    "We can take a slice of an array using a colon, just like in a list."
   ]
  },
  {
   "cell_type": "code",
   "execution_count": 153,
   "metadata": {
    "collapsed": false
   },
   "outputs": [
    {
     "name": "stdout",
     "output_type": "stream",
     "text": [
      "[5. 2.]\n"
     ]
    }
   ],
   "source": [
    "print (returns[1:3])"
   ]
  },
  {
   "cell_type": "code",
   "execution_count": 154,
   "metadata": {},
   "outputs": [
    {
     "data": {
      "text/plain": [
       "array([[1, 2],\n",
       "       [3, 4]])"
      ]
     },
     "execution_count": 154,
     "metadata": {},
     "output_type": "execute_result"
    }
   ],
   "source": [
    "A"
   ]
  },
  {
   "cell_type": "markdown",
   "metadata": {},
   "source": [
    "A slice of an array, like in a list, will select a group of elements in the array starting from the first element indicated and going up to (but not including) the last element indicated.\n",
    "\n",
    "In the case of multidimensional arrays, many of the same conventions with slicing and indexing hold. We can access the first column of a 2-dimensional array like so:"
   ]
  },
  {
   "cell_type": "code",
   "execution_count": 155,
   "metadata": {
    "collapsed": false
   },
   "outputs": [
    {
     "name": "stdout",
     "output_type": "stream",
     "text": [
      "[1 3]\n"
     ]
    }
   ],
   "source": [
    "print (A[:, 0])"
   ]
  },
  {
   "cell_type": "markdown",
   "metadata": {},
   "source": [
    "And the first row of a 2-dimensional array like so:"
   ]
  },
  {
   "cell_type": "code",
   "execution_count": 156,
   "metadata": {
    "collapsed": false
   },
   "outputs": [
    {
     "name": "stdout",
     "output_type": "stream",
     "text": [
      "[1 2]\n"
     ]
    }
   ],
   "source": [
    "print (A[0, :])"
   ]
  },
  {
   "cell_type": "code",
   "execution_count": 157,
   "metadata": {},
   "outputs": [
    {
     "data": {
      "text/plain": [
       "array([[1, 2]])"
      ]
     },
     "execution_count": 157,
     "metadata": {},
     "output_type": "execute_result"
    }
   ],
   "source": [
    "A[:1]"
   ]
  },
  {
   "cell_type": "markdown",
   "metadata": {},
   "source": [
    "Notice that each slice of the array returns yet another array!"
   ]
  },
  {
   "cell_type": "code",
   "execution_count": 158,
   "metadata": {
    "collapsed": false
   },
   "outputs": [
    {
     "name": "stdout",
     "output_type": "stream",
     "text": [
      "<class 'numpy.ndarray'>\n"
     ]
    }
   ],
   "source": [
    "print (type(A[0,:]))"
   ]
  },
  {
   "cell_type": "markdown",
   "metadata": {},
   "source": [
    "Passing only one index to a 2-dimensional array will result in returning the row with the given index as well, providing us with another way to access individual rows."
   ]
  },
  {
   "cell_type": "code",
   "execution_count": 159,
   "metadata": {
    "collapsed": false
   },
   "outputs": [
    {
     "data": {
      "text/plain": [
       "array([1, 2])"
      ]
     },
     "execution_count": 159,
     "metadata": {},
     "output_type": "execute_result"
    }
   ],
   "source": [
    "A[0]"
   ]
  },
  {
   "cell_type": "markdown",
   "metadata": {},
   "source": [
    "Accessing the index of an individual element will return only the element."
   ]
  },
  {
   "cell_type": "code",
   "execution_count": 160,
   "metadata": {
    "collapsed": false
   },
   "outputs": [
    {
     "data": {
      "text/plain": [
       "4"
      ]
     },
     "execution_count": 160,
     "metadata": {},
     "output_type": "execute_result"
    }
   ],
   "source": [
    "A[1, 1]"
   ]
  },
  {
   "cell_type": "code",
   "execution_count": 161,
   "metadata": {},
   "outputs": [
    {
     "data": {
      "text/plain": [
       "array([3.5, 5. , 2. , 8. , 4.2])"
      ]
     },
     "execution_count": 161,
     "metadata": {},
     "output_type": "execute_result"
    }
   ],
   "source": [
    "returns"
   ]
  },
  {
   "cell_type": "markdown",
   "metadata": {},
   "source": [
    "#### Array functions\n",
    "\n",
    "Functions built into NumPy can be easily called on arrays. Most functions are applied to an array element-wise (as scalar multiplication is). For example, if we call `log()` on an array, the logarithm will be taken of each element."
   ]
  },
  {
   "cell_type": "code",
   "execution_count": 162,
   "metadata": {
    "collapsed": false
   },
   "outputs": [
    {
     "data": {
      "text/plain": [
       "array([1.25276297, 1.60943791, 0.69314718, 2.07944154, 1.43508453])"
      ]
     },
     "execution_count": 162,
     "metadata": {},
     "output_type": "execute_result"
    }
   ],
   "source": [
    "np.log(returns)"
   ]
  },
  {
   "cell_type": "markdown",
   "metadata": {},
   "source": [
    "Some functions return a single value. This is because they treat the array as a collection (similar to a list), performing the designated function. For example, the `mean()` function will do exactly what you expect, calculating the mean of an array."
   ]
  },
  {
   "cell_type": "code",
   "execution_count": 163,
   "metadata": {
    "collapsed": false
   },
   "outputs": [
    {
     "data": {
      "text/plain": [
       "4.54"
      ]
     },
     "execution_count": 163,
     "metadata": {},
     "output_type": "execute_result"
    }
   ],
   "source": [
    "np.mean(returns)"
   ]
  },
  {
   "cell_type": "markdown",
   "metadata": {},
   "source": [
    "Or the `max()` function will return the maximum element of an array."
   ]
  },
  {
   "cell_type": "code",
   "execution_count": 164,
   "metadata": {
    "collapsed": false
   },
   "outputs": [
    {
     "data": {
      "text/plain": [
       "8.0"
      ]
     },
     "execution_count": 164,
     "metadata": {},
     "output_type": "execute_result"
    }
   ],
   "source": [
    "np.max(returns)"
   ]
  },
  {
   "cell_type": "markdown",
   "metadata": {},
   "source": [
    "For further reading on the universal functions in NumPy, check out the [documentation](https://docs.scipy.org/doc/numpy/user/quickstart.html#universal-functions)."
   ]
  },
  {
   "cell_type": "markdown",
   "metadata": {},
   "source": [
    "### Return to the returns\n",
    "\n",
    "Now let's modify our returns array with scalar values. If we add a scalar value to an array it will be added to every element of the array. If we multiply an array by a scalar value it will be multiplied against every element of the array. If we do both, both will happen!"
   ]
  },
  {
   "cell_type": "code",
   "execution_count": 165,
   "metadata": {
    "collapsed": false,
    "scrolled": false
   },
   "outputs": [
    {
     "data": {
      "text/plain": [
       "array([12. , 15. ,  9. , 21. , 13.4])"
      ]
     },
     "execution_count": 165,
     "metadata": {},
     "output_type": "execute_result"
    }
   ],
   "source": [
    "returns*2 + 5"
   ]
  },
  {
   "cell_type": "markdown",
   "metadata": {},
   "source": [
    "NumPy also has functions specifically built to operate on arrays. Let's take the mean and standard deviation of this group of returns."
   ]
  },
  {
   "cell_type": "code",
   "execution_count": 166,
   "metadata": {
    "collapsed": false
   },
   "outputs": [
    {
     "name": "stdout",
     "output_type": "stream",
     "text": [
      "Mean:  4.54 Std Dev:  1.9915822855207364\n"
     ]
    }
   ],
   "source": [
    "print(\"Mean: \", np.mean(returns), \"Std Dev: \", np.std(returns))"
   ]
  },
  {
   "cell_type": "markdown",
   "metadata": {},
   "source": [
    "Let's simulate a universe of stocks using NumPy's functions. First we need to create the arrays to hold the assets and returns that we will use to build a portfolio. This is because arrays are created with a fixed size. Their dimensions can't be changed without creating a new array."
   ]
  },
  {
   "cell_type": "code",
   "execution_count": 167,
   "metadata": {
    "collapsed": true
   },
   "outputs": [],
   "source": [
    "N = 20\n",
    "assets = np.zeros((N, 100))\n",
    "returns = np.zeros((N, 100))"
   ]
  },
  {
   "cell_type": "code",
   "execution_count": 168,
   "metadata": {},
   "outputs": [
    {
     "data": {
      "text/plain": [
       "array([[0., 0., 0., ..., 0., 0., 0.],\n",
       "       [0., 0., 0., ..., 0., 0., 0.],\n",
       "       [0., 0., 0., ..., 0., 0., 0.],\n",
       "       ...,\n",
       "       [0., 0., 0., ..., 0., 0., 0.],\n",
       "       [0., 0., 0., ..., 0., 0., 0.],\n",
       "       [0., 0., 0., ..., 0., 0., 0.]])"
      ]
     },
     "execution_count": 168,
     "metadata": {},
     "output_type": "execute_result"
    }
   ],
   "source": [
    "assets"
   ]
  },
  {
   "cell_type": "code",
   "execution_count": 169,
   "metadata": {},
   "outputs": [
    {
     "data": {
      "text/plain": [
       "2000"
      ]
     },
     "execution_count": 169,
     "metadata": {},
     "output_type": "execute_result"
    }
   ],
   "source": [
    "returns.size"
   ]
  },
  {
   "cell_type": "markdown",
   "metadata": {},
   "source": [
    "This function, `zeroes()`, creates a NumPy array with the given dimensions that is entirely filled in with $0$. We can pass a single value or a tuple of as many dimensions as we like. Passing in the tuple `(N, 100)`, will return a two-dimensional array with $N$ rows and $100$ columns. Our result is a $N \\times 100$ array.\n",
    "\n",
    "Now we will simulate a base asset. We want the universe of stocks to be correlated with each other so we will use this initial value to generate the others."
   ]
  },
  {
   "cell_type": "code",
   "execution_count": 170,
   "metadata": {
    "collapsed": false
   },
   "outputs": [],
   "source": [
    "R_1 = np.random.normal(1.01, 0.03, 100)\n",
    "returns[0] = R_1\n",
    "assets[0] = np.cumprod(R_1)"
   ]
  },
  {
   "cell_type": "code",
   "execution_count": 171,
   "metadata": {},
   "outputs": [
    {
     "data": {
      "text/plain": [
       "array([0.9914098 , 1.03323508, 1.00439939, 0.97154631, 1.03528964,\n",
       "       1.00039002, 1.05411119, 1.02056263, 1.05260078, 1.02642221,\n",
       "       1.01996439, 1.02151211, 1.05801932, 0.96331292, 1.02940406,\n",
       "       0.96910652, 0.99260349, 1.0085665 , 0.96865198, 1.02727203,\n",
       "       1.01024418, 1.01780435, 1.0313199 , 0.96172318, 0.9880421 ,\n",
       "       1.03133429, 0.96343893, 0.99651038, 1.03121468, 1.02931756,\n",
       "       1.01178688, 1.02647873, 1.01536005, 1.00664941, 1.05655093,\n",
       "       1.00373049, 0.99102251, 1.02920637, 1.04028175, 1.02371639,\n",
       "       1.0836586 , 1.05633762, 0.9562708 , 0.98420199, 0.9696983 ,\n",
       "       0.99634409, 1.06440274, 1.03623112, 0.97600664, 0.98579341,\n",
       "       0.99236391, 0.95367639, 0.98857489, 1.02047287, 0.97077116,\n",
       "       0.99884679, 0.96044675, 0.98224386, 1.02016946, 1.00163398,\n",
       "       1.00331462, 1.02434762, 1.03078462, 0.9860204 , 1.0015624 ,\n",
       "       0.99155225, 0.98474224, 1.0071717 , 0.99491347, 0.98723494,\n",
       "       1.0265644 , 0.97173257, 1.03060258, 1.01610516, 1.0397443 ,\n",
       "       1.00529853, 1.01870101, 1.01640325, 1.07791362, 1.02168713,\n",
       "       0.97737861, 0.91974841, 0.98022769, 1.02099666, 1.02392405,\n",
       "       1.00877491, 1.02692638, 1.0339216 , 1.03383616, 1.052313  ,\n",
       "       1.03000697, 0.99871396, 1.0649067 , 0.99652781, 1.00935713,\n",
       "       1.02822027, 1.02784202, 0.98565608, 0.98118371, 0.98694374])"
      ]
     },
     "execution_count": 171,
     "metadata": {},
     "output_type": "execute_result"
    }
   ],
   "source": [
    "R_1"
   ]
  },
  {
   "cell_type": "code",
   "execution_count": 172,
   "metadata": {},
   "outputs": [
    {
     "data": {
      "text/plain": [
       "array([[0.9914098 , 1.03323508, 1.00439939, ..., 0.98565608, 0.98118371,\n",
       "        0.98694374],\n",
       "       [0.        , 0.        , 0.        , ..., 0.        , 0.        ,\n",
       "        0.        ],\n",
       "       [0.        , 0.        , 0.        , ..., 0.        , 0.        ,\n",
       "        0.        ],\n",
       "       ...,\n",
       "       [0.        , 0.        , 0.        , ..., 0.        , 0.        ,\n",
       "        0.        ],\n",
       "       [0.        , 0.        , 0.        , ..., 0.        , 0.        ,\n",
       "        0.        ],\n",
       "       [0.        , 0.        , 0.        , ..., 0.        , 0.        ,\n",
       "        0.        ]])"
      ]
     },
     "execution_count": 172,
     "metadata": {},
     "output_type": "execute_result"
    }
   ],
   "source": [
    "returns"
   ]
  },
  {
   "cell_type": "code",
   "execution_count": 173,
   "metadata": {},
   "outputs": [
    {
     "data": {
      "text/plain": [
       "array([ True, False, False, False, False, False, False, False, False,\n",
       "       False, False, False, False, False, False, False, False, False,\n",
       "       False, False, False, False, False, False, False, False, False,\n",
       "       False, False, False, False, False, False, False, False, False,\n",
       "       False, False, False, False, False, False, False, False, False,\n",
       "       False, False, False, False, False, False, False, False, False,\n",
       "       False, False, False, False, False, False, False, False, False,\n",
       "       False, False, False, False, False, False, False, False, False,\n",
       "       False, False, False, False, False, False, False, False, False,\n",
       "       False, False, False, False, False, False, False, False, False,\n",
       "       False, False, False, False, False, False, False, False, False,\n",
       "       False])"
      ]
     },
     "execution_count": 173,
     "metadata": {},
     "output_type": "execute_result"
    }
   ],
   "source": [
    "assets[0]==R_1"
   ]
  },
  {
   "cell_type": "markdown",
   "metadata": {},
   "source": [
    "The `random` module in NumPy is exceedingly useful. It contains methods for sampling from many different probability distributions, some of which are covered in the [random variables lecture](https://www.quantopian.com/lectures/random-variables) in the Quantopian lecture series. In this case we draw $N = 100$ random samples from a normal distribution with mean $1.01$ and standard deviation $0.03$. We treat these as the daily percentage returns of our asset and take the cumulative product of these samples to get the current price.\n",
    "\n",
    "The way we have generated our universe, the the individual $R_i$ vectors are each 1-dimensional arrays and the `returns` and `assets` variables contain 2-dimensional arrays. Above, we set the initial row of both `returns` and `assets` to be the first $R_i$ vector and the cumulative asset price based on those returns, respectively.\n",
    "\n",
    "We will now use this base asset to create a few other random assets that are correlated with it."
   ]
  },
  {
   "cell_type": "code",
   "execution_count": 174,
   "metadata": {
    "collapsed": false
   },
   "outputs": [],
   "source": [
    "# Generate assets that are correlated with R_1\n",
    "for i in range(1, N):\n",
    "    R_i = R_1 + np.random.normal(0.001, 0.02, 100)\n",
    "    returns[i] = R_i # Set each row of returns equal to the new R_i array\n",
    "    assets[i] = np.cumprod(R_i)\n",
    "    \n",
    "mean_returns = [(np.mean(R) - 1)*100 for R in returns]\n",
    "return_volatilities = [np.std(R) for R in returns]"
   ]
  },
  {
   "cell_type": "markdown",
   "metadata": {},
   "source": [
    "Here we generate the remaining 9 securities that we want in our universe by adding random noise to $R_1$. This ensures that our 9 other assets will be correlated with the base asset because they have some underlying information that is shared. (R1)\n"
   ]
  },
  {
   "cell_type": "code",
   "execution_count": 211,
   "metadata": {},
   "outputs": [],
   "source": [
    "import yfinance as yf "
   ]
  },
  {
   "cell_type": "code",
   "execution_count": 217,
   "metadata": {},
   "outputs": [
    {
     "name": "stdout",
     "output_type": "stream",
     "text": [
      "[*********************100%***********************]  1 of 1 completed\n"
     ]
    },
    {
     "data": {
      "text/html": [
       "<div>\n",
       "<style scoped>\n",
       "    .dataframe tbody tr th:only-of-type {\n",
       "        vertical-align: middle;\n",
       "    }\n",
       "\n",
       "    .dataframe tbody tr th {\n",
       "        vertical-align: top;\n",
       "    }\n",
       "\n",
       "    .dataframe thead th {\n",
       "        text-align: right;\n",
       "    }\n",
       "</style>\n",
       "<table border=\"1\" class=\"dataframe\">\n",
       "  <thead>\n",
       "    <tr style=\"text-align: right;\">\n",
       "      <th></th>\n",
       "      <th>2021-12-31</th>\n",
       "      <th>2020-12-31</th>\n",
       "      <th>2019-12-31</th>\n",
       "      <th>2018-12-31</th>\n",
       "    </tr>\n",
       "  </thead>\n",
       "  <tbody>\n",
       "    <tr>\n",
       "      <th>Intangible Assets</th>\n",
       "      <td>1.417000e+09</td>\n",
       "      <td>1.445000e+09</td>\n",
       "      <td>1.979000e+09</td>\n",
       "      <td>2.220000e+09</td>\n",
       "    </tr>\n",
       "    <tr>\n",
       "      <th>Total Liab</th>\n",
       "      <td>1.076330e+11</td>\n",
       "      <td>9.707200e+10</td>\n",
       "      <td>7.446700e+10</td>\n",
       "      <td>5.516400e+10</td>\n",
       "    </tr>\n",
       "    <tr>\n",
       "      <th>Total Stockholder Equity</th>\n",
       "      <td>2.516350e+11</td>\n",
       "      <td>2.225440e+11</td>\n",
       "      <td>2.014420e+11</td>\n",
       "      <td>1.776280e+11</td>\n",
       "    </tr>\n",
       "    <tr>\n",
       "      <th>Other Current Liab</th>\n",
       "      <td>2.920800e+10</td>\n",
       "      <td>2.800600e+10</td>\n",
       "      <td>2.215900e+10</td>\n",
       "      <td>1.761200e+10</td>\n",
       "    </tr>\n",
       "    <tr>\n",
       "      <th>Total Assets</th>\n",
       "      <td>3.592680e+11</td>\n",
       "      <td>3.196160e+11</td>\n",
       "      <td>2.759090e+11</td>\n",
       "      <td>2.327920e+11</td>\n",
       "    </tr>\n",
       "    <tr>\n",
       "      <th>Common Stock</th>\n",
       "      <td>6.177400e+10</td>\n",
       "      <td>5.851000e+10</td>\n",
       "      <td>5.055200e+10</td>\n",
       "      <td>4.504900e+10</td>\n",
       "    </tr>\n",
       "    <tr>\n",
       "      <th>Other Current Assets</th>\n",
       "      <td>7.054000e+09</td>\n",
       "      <td>5.490000e+09</td>\n",
       "      <td>4.412000e+09</td>\n",
       "      <td>4.236000e+09</td>\n",
       "    </tr>\n",
       "    <tr>\n",
       "      <th>Retained Earnings</th>\n",
       "      <td>1.914840e+11</td>\n",
       "      <td>1.634010e+11</td>\n",
       "      <td>1.521220e+11</td>\n",
       "      <td>1.348850e+11</td>\n",
       "    </tr>\n",
       "    <tr>\n",
       "      <th>Other Liab</th>\n",
       "      <td>1.717300e+10</td>\n",
       "      <td>1.516000e+10</td>\n",
       "      <td>1.447800e+10</td>\n",
       "      <td>1.653200e+10</td>\n",
       "    </tr>\n",
       "    <tr>\n",
       "      <th>Good Will</th>\n",
       "      <td>2.295600e+10</td>\n",
       "      <td>2.117500e+10</td>\n",
       "      <td>2.062400e+10</td>\n",
       "      <td>1.788800e+10</td>\n",
       "    </tr>\n",
       "    <tr>\n",
       "      <th>Gains Losses Not Affecting Retained Earnings</th>\n",
       "      <td>-1.623000e+09</td>\n",
       "      <td>6.330000e+08</td>\n",
       "      <td>-1.232000e+09</td>\n",
       "      <td>-2.306000e+09</td>\n",
       "    </tr>\n",
       "    <tr>\n",
       "      <th>Other Assets</th>\n",
       "      <td>6.645000e+09</td>\n",
       "      <td>5.037000e+09</td>\n",
       "      <td>3.063000e+09</td>\n",
       "      <td>3.430000e+09</td>\n",
       "    </tr>\n",
       "    <tr>\n",
       "      <th>Cash</th>\n",
       "      <td>2.094500e+10</td>\n",
       "      <td>2.646500e+10</td>\n",
       "      <td>1.849800e+10</td>\n",
       "      <td>1.670100e+10</td>\n",
       "    </tr>\n",
       "    <tr>\n",
       "      <th>Total Current Liabilities</th>\n",
       "      <td>6.425400e+10</td>\n",
       "      <td>5.683400e+10</td>\n",
       "      <td>4.522100e+10</td>\n",
       "      <td>3.462000e+10</td>\n",
       "    </tr>\n",
       "    <tr>\n",
       "      <th>Deferred Long Term Asset Charges</th>\n",
       "      <td>1.284000e+09</td>\n",
       "      <td>1.084000e+09</td>\n",
       "      <td>7.210000e+08</td>\n",
       "      <td>7.370000e+08</td>\n",
       "    </tr>\n",
       "    <tr>\n",
       "      <th>Other Stockholder Equity</th>\n",
       "      <td>-1.623000e+09</td>\n",
       "      <td>6.330000e+08</td>\n",
       "      <td>-1.232000e+09</td>\n",
       "      <td>-2.306000e+09</td>\n",
       "    </tr>\n",
       "    <tr>\n",
       "      <th>Property Plant Equipment</th>\n",
       "      <td>1.105580e+11</td>\n",
       "      <td>9.696000e+10</td>\n",
       "      <td>8.458700e+10</td>\n",
       "      <td>5.971900e+10</td>\n",
       "    </tr>\n",
       "    <tr>\n",
       "      <th>Total Current Assets</th>\n",
       "      <td>1.881430e+11</td>\n",
       "      <td>1.742960e+11</td>\n",
       "      <td>1.525780e+11</td>\n",
       "      <td>1.356760e+11</td>\n",
       "    </tr>\n",
       "    <tr>\n",
       "      <th>Long Term Investments</th>\n",
       "      <td>2.954900e+10</td>\n",
       "      <td>2.070300e+10</td>\n",
       "      <td>1.307800e+10</td>\n",
       "      <td>1.385900e+10</td>\n",
       "    </tr>\n",
       "    <tr>\n",
       "      <th>Net Tangible Assets</th>\n",
       "      <td>2.272620e+11</td>\n",
       "      <td>1.999240e+11</td>\n",
       "      <td>1.788390e+11</td>\n",
       "      <td>1.575200e+11</td>\n",
       "    </tr>\n",
       "    <tr>\n",
       "      <th>Short Term Investments</th>\n",
       "      <td>1.187040e+11</td>\n",
       "      <td>1.102290e+11</td>\n",
       "      <td>1.011770e+11</td>\n",
       "      <td>9.243900e+10</td>\n",
       "    </tr>\n",
       "    <tr>\n",
       "      <th>Net Receivables</th>\n",
       "      <td>4.027000e+10</td>\n",
       "      <td>3.138400e+10</td>\n",
       "      <td>2.749200e+10</td>\n",
       "      <td>2.119300e+10</td>\n",
       "    </tr>\n",
       "    <tr>\n",
       "      <th>Long Term Debt</th>\n",
       "      <td>1.284400e+10</td>\n",
       "      <td>1.283200e+10</td>\n",
       "      <td>3.958000e+09</td>\n",
       "      <td>3.950000e+09</td>\n",
       "    </tr>\n",
       "    <tr>\n",
       "      <th>Inventory</th>\n",
       "      <td>1.170000e+09</td>\n",
       "      <td>7.280000e+08</td>\n",
       "      <td>9.990000e+08</td>\n",
       "      <td>1.107000e+09</td>\n",
       "    </tr>\n",
       "    <tr>\n",
       "      <th>Accounts Payable</th>\n",
       "      <td>6.037000e+09</td>\n",
       "      <td>5.589000e+09</td>\n",
       "      <td>5.561000e+09</td>\n",
       "      <td>4.378000e+09</td>\n",
       "    </tr>\n",
       "    <tr>\n",
       "      <th>Short Long Term Debt</th>\n",
       "      <td>NaN</td>\n",
       "      <td>9.990000e+08</td>\n",
       "      <td>NaN</td>\n",
       "      <td>NaN</td>\n",
       "    </tr>\n",
       "  </tbody>\n",
       "</table>\n",
       "</div>"
      ],
      "text/plain": [
       "                                                2021-12-31    2020-12-31  \\\n",
       "Intangible Assets                             1.417000e+09  1.445000e+09   \n",
       "Total Liab                                    1.076330e+11  9.707200e+10   \n",
       "Total Stockholder Equity                      2.516350e+11  2.225440e+11   \n",
       "Other Current Liab                            2.920800e+10  2.800600e+10   \n",
       "Total Assets                                  3.592680e+11  3.196160e+11   \n",
       "Common Stock                                  6.177400e+10  5.851000e+10   \n",
       "Other Current Assets                          7.054000e+09  5.490000e+09   \n",
       "Retained Earnings                             1.914840e+11  1.634010e+11   \n",
       "Other Liab                                    1.717300e+10  1.516000e+10   \n",
       "Good Will                                     2.295600e+10  2.117500e+10   \n",
       "Gains Losses Not Affecting Retained Earnings -1.623000e+09  6.330000e+08   \n",
       "Other Assets                                  6.645000e+09  5.037000e+09   \n",
       "Cash                                          2.094500e+10  2.646500e+10   \n",
       "Total Current Liabilities                     6.425400e+10  5.683400e+10   \n",
       "Deferred Long Term Asset Charges              1.284000e+09  1.084000e+09   \n",
       "Other Stockholder Equity                     -1.623000e+09  6.330000e+08   \n",
       "Property Plant Equipment                      1.105580e+11  9.696000e+10   \n",
       "Total Current Assets                          1.881430e+11  1.742960e+11   \n",
       "Long Term Investments                         2.954900e+10  2.070300e+10   \n",
       "Net Tangible Assets                           2.272620e+11  1.999240e+11   \n",
       "Short Term Investments                        1.187040e+11  1.102290e+11   \n",
       "Net Receivables                               4.027000e+10  3.138400e+10   \n",
       "Long Term Debt                                1.284400e+10  1.283200e+10   \n",
       "Inventory                                     1.170000e+09  7.280000e+08   \n",
       "Accounts Payable                              6.037000e+09  5.589000e+09   \n",
       "Short Long Term Debt                                   NaN  9.990000e+08   \n",
       "\n",
       "                                                2019-12-31    2018-12-31  \n",
       "Intangible Assets                             1.979000e+09  2.220000e+09  \n",
       "Total Liab                                    7.446700e+10  5.516400e+10  \n",
       "Total Stockholder Equity                      2.014420e+11  1.776280e+11  \n",
       "Other Current Liab                            2.215900e+10  1.761200e+10  \n",
       "Total Assets                                  2.759090e+11  2.327920e+11  \n",
       "Common Stock                                  5.055200e+10  4.504900e+10  \n",
       "Other Current Assets                          4.412000e+09  4.236000e+09  \n",
       "Retained Earnings                             1.521220e+11  1.348850e+11  \n",
       "Other Liab                                    1.447800e+10  1.653200e+10  \n",
       "Good Will                                     2.062400e+10  1.788800e+10  \n",
       "Gains Losses Not Affecting Retained Earnings -1.232000e+09 -2.306000e+09  \n",
       "Other Assets                                  3.063000e+09  3.430000e+09  \n",
       "Cash                                          1.849800e+10  1.670100e+10  \n",
       "Total Current Liabilities                     4.522100e+10  3.462000e+10  \n",
       "Deferred Long Term Asset Charges              7.210000e+08  7.370000e+08  \n",
       "Other Stockholder Equity                     -1.232000e+09 -2.306000e+09  \n",
       "Property Plant Equipment                      8.458700e+10  5.971900e+10  \n",
       "Total Current Assets                          1.525780e+11  1.356760e+11  \n",
       "Long Term Investments                         1.307800e+10  1.385900e+10  \n",
       "Net Tangible Assets                           1.788390e+11  1.575200e+11  \n",
       "Short Term Investments                        1.011770e+11  9.243900e+10  \n",
       "Net Receivables                               2.749200e+10  2.119300e+10  \n",
       "Long Term Debt                                3.958000e+09  3.950000e+09  \n",
       "Inventory                                     9.990000e+08  1.107000e+09  \n",
       "Accounts Payable                              5.561000e+09  4.378000e+09  \n",
       "Short Long Term Debt                                   NaN           NaN  "
      ]
     },
     "execution_count": 217,
     "metadata": {},
     "output_type": "execute_result"
    }
   ],
   "source": [
    "ap = yf.download('AAPL')\n",
    "ap\n",
    "goog = yf.Ticker('GOOG')\n",
    "goog.get_balance_sheet()"
   ]
  },
  {
   "cell_type": "code",
   "execution_count": 175,
   "metadata": {},
   "outputs": [
    {
     "data": {
      "text/plain": [
       "[0.9360614260218281,\n",
       " 1.1867347799728423,\n",
       " 1.2316687429343665,\n",
       " 1.2389883057590145,\n",
       " 1.0561973910281575,\n",
       " 1.1594621281556305,\n",
       " 1.032136255008842,\n",
       " 0.6175072514239766,\n",
       " 0.8459971868729266,\n",
       " 1.0399103780428298,\n",
       " 0.8520765399400387,\n",
       " 0.790638063755722,\n",
       " 1.2603187557937545,\n",
       " 1.2039065409661154,\n",
       " 0.9877359057152368,\n",
       " 0.8087696650754816,\n",
       " 1.2530584223344077,\n",
       " 1.0941837138101818,\n",
       " 1.3192000133199766,\n",
       " 0.9570587322328183]"
      ]
     },
     "execution_count": 175,
     "metadata": {},
     "output_type": "execute_result"
    }
   ],
   "source": [
    "[(np.mean(R)-1)*100 for R in returns]"
   ]
  },
  {
   "cell_type": "code",
   "execution_count": 176,
   "metadata": {},
   "outputs": [
    {
     "data": {
      "text/plain": [
       "array([0.96965174, 1.04482035, 1.02238845, 0.96648967, 1.04436742,\n",
       "       1.02873452, 1.06019625, 1.03071462, 1.06924616, 1.02110919,\n",
       "       1.0208799 , 1.02411199, 1.0649482 , 0.95444422, 0.97117231,\n",
       "       1.01323827, 1.016239  , 1.01208491, 0.95876425, 0.99989135,\n",
       "       0.98851289, 0.98881561, 1.05851566, 0.96109454, 0.9841852 ,\n",
       "       1.03159393, 0.95123543, 1.02408672, 1.03518594, 1.01960638,\n",
       "       1.03347879, 1.0028896 , 1.02804151, 0.99404833, 1.05656644,\n",
       "       1.05447486, 0.99780603, 1.0577747 , 1.03206301, 1.04584278,\n",
       "       1.09983636, 1.07785945, 0.94238518, 0.97331785, 0.99021701,\n",
       "       1.00862438, 1.06077889, 1.03289358, 0.98386889, 0.99390571,\n",
       "       0.97603382, 0.96467534, 0.95150816, 1.04599211, 0.98211176,\n",
       "       0.98809826, 0.9622653 , 0.95295441, 1.04646825, 1.01459459,\n",
       "       0.98503104, 1.02954643, 1.04361551, 0.98230738, 1.00535047,\n",
       "       0.96293336, 0.9447153 , 1.00282417, 0.95597452, 0.99087792,\n",
       "       1.03918687, 0.96697141, 1.01923846, 1.01939103, 1.01568255,\n",
       "       1.00256358, 1.043476  , 1.02955931, 1.10407027, 1.02383606,\n",
       "       0.95760683, 0.94692206, 0.94550435, 1.04295956, 1.01000227,\n",
       "       1.00284052, 1.02777682, 1.03031607, 0.98799305, 1.09185848,\n",
       "       1.00665644, 0.9743899 , 1.05867869, 0.96299003, 1.04161352,\n",
       "       1.00989779, 1.03900744, 1.02056033, 0.99232743, 0.95230505])"
      ]
     },
     "execution_count": 176,
     "metadata": {},
     "output_type": "execute_result"
    }
   ],
   "source": [
    "R_i"
   ]
  },
  {
   "cell_type": "code",
   "execution_count": 177,
   "metadata": {},
   "outputs": [
    {
     "data": {
      "text/plain": [
       "array([0.9914098 , 1.03323508, 1.00439939, 0.97154631, 1.03528964,\n",
       "       1.00039002, 1.05411119, 1.02056263, 1.05260078, 1.02642221,\n",
       "       1.01996439, 1.02151211, 1.05801932, 0.96331292, 1.02940406,\n",
       "       0.96910652, 0.99260349, 1.0085665 , 0.96865198, 1.02727203,\n",
       "       1.01024418, 1.01780435, 1.0313199 , 0.96172318, 0.9880421 ,\n",
       "       1.03133429, 0.96343893, 0.99651038, 1.03121468, 1.02931756,\n",
       "       1.01178688, 1.02647873, 1.01536005, 1.00664941, 1.05655093,\n",
       "       1.00373049, 0.99102251, 1.02920637, 1.04028175, 1.02371639,\n",
       "       1.0836586 , 1.05633762, 0.9562708 , 0.98420199, 0.9696983 ,\n",
       "       0.99634409, 1.06440274, 1.03623112, 0.97600664, 0.98579341,\n",
       "       0.99236391, 0.95367639, 0.98857489, 1.02047287, 0.97077116,\n",
       "       0.99884679, 0.96044675, 0.98224386, 1.02016946, 1.00163398,\n",
       "       1.00331462, 1.02434762, 1.03078462, 0.9860204 , 1.0015624 ,\n",
       "       0.99155225, 0.98474224, 1.0071717 , 0.99491347, 0.98723494,\n",
       "       1.0265644 , 0.97173257, 1.03060258, 1.01610516, 1.0397443 ,\n",
       "       1.00529853, 1.01870101, 1.01640325, 1.07791362, 1.02168713,\n",
       "       0.97737861, 0.91974841, 0.98022769, 1.02099666, 1.02392405,\n",
       "       1.00877491, 1.02692638, 1.0339216 , 1.03383616, 1.052313  ,\n",
       "       1.03000697, 0.99871396, 1.0649067 , 0.99652781, 1.00935713,\n",
       "       1.02822027, 1.02784202, 0.98565608, 0.98118371, 0.98694374])"
      ]
     },
     "execution_count": 177,
     "metadata": {},
     "output_type": "execute_result"
    }
   ],
   "source": [
    "R_1"
   ]
  },
  {
   "cell_type": "code",
   "execution_count": 178,
   "metadata": {},
   "outputs": [
    {
     "data": {
      "text/plain": [
       "array([[0.9914098 , 1.03323508, 1.00439939, ..., 0.98565608, 0.98118371,\n",
       "        0.98694374],\n",
       "       [0.98448673, 1.05457103, 1.02553779, ..., 0.94681056, 0.9800396 ,\n",
       "        0.99590933],\n",
       "       [1.01215835, 1.0422031 , 0.99259595, ..., 0.99761118, 0.99370037,\n",
       "        1.00594997],\n",
       "       ...,\n",
       "       [0.97933027, 1.02014388, 1.02924103, ..., 0.98465175, 0.98406721,\n",
       "        1.0001406 ],\n",
       "       [1.03302212, 1.05218753, 1.02663435, ..., 0.97816258, 0.9915166 ,\n",
       "        0.97276593],\n",
       "       [0.96965174, 1.04482035, 1.02238845, ..., 1.02056033, 0.99232743,\n",
       "        0.95230505]])"
      ]
     },
     "execution_count": 178,
     "metadata": {},
     "output_type": "execute_result"
    }
   ],
   "source": [
    "returns"
   ]
  },
  {
   "cell_type": "code",
   "execution_count": 179,
   "metadata": {},
   "outputs": [
    {
     "data": {
      "text/plain": [
       "array([ True,  True,  True,  True,  True,  True,  True,  True,  True,\n",
       "        True,  True,  True,  True,  True,  True,  True,  True,  True,\n",
       "        True,  True,  True,  True,  True,  True,  True,  True,  True,\n",
       "        True,  True,  True,  True,  True,  True,  True,  True,  True,\n",
       "        True,  True,  True,  True,  True,  True,  True,  True,  True,\n",
       "        True,  True,  True,  True,  True,  True,  True,  True,  True,\n",
       "        True,  True,  True,  True,  True,  True,  True,  True,  True,\n",
       "        True,  True,  True,  True,  True,  True,  True,  True,  True,\n",
       "        True,  True,  True,  True,  True,  True,  True,  True,  True,\n",
       "        True,  True,  True,  True,  True,  True,  True,  True,  True,\n",
       "        True,  True,  True,  True,  True,  True,  True,  True,  True,\n",
       "        True])"
      ]
     },
     "execution_count": 179,
     "metadata": {},
     "output_type": "execute_result"
    }
   ],
   "source": [
    "returns[0] == R_1"
   ]
  },
  {
   "cell_type": "code",
   "execution_count": 180,
   "metadata": {},
   "outputs": [
    {
     "data": {
      "text/plain": [
       "array([[0.9914098 , 1.02435938, 1.02886593, ..., 2.51305493, 2.46576855,\n",
       "        2.43357482],\n",
       "       [0.98448673, 1.03821118, 1.06472481, ..., 3.12780089, 3.06536875,\n",
       "        3.05282932],\n",
       "       [1.01215835, 1.05487457, 1.04706423, ..., 3.19888927, 3.17873744,\n",
       "        3.19765084],\n",
       "       ...,\n",
       "       [0.97933027, 0.99905778, 1.02827126, ..., 2.85739651, 2.81187023,\n",
       "        2.81226559],\n",
       "       [1.03302212, 1.08693299, 1.11588275, ..., 3.60193988, 3.57138317,\n",
       "        3.47411989],\n",
       "       [0.96965174, 1.01311188, 1.03579388, ..., 2.55988282, 2.54024194,\n",
       "        2.41908523]])"
      ]
     },
     "execution_count": 180,
     "metadata": {},
     "output_type": "execute_result"
    }
   ],
   "source": [
    "assets"
   ]
  },
  {
   "cell_type": "code",
   "execution_count": 181,
   "metadata": {},
   "outputs": [
    {
     "data": {
      "text/plain": [
       "(20, 100)"
      ]
     },
     "execution_count": 181,
     "metadata": {},
     "output_type": "execute_result"
    }
   ],
   "source": [
    "returns.shape"
   ]
  },
  {
   "cell_type": "code",
   "execution_count": 182,
   "metadata": {},
   "outputs": [
    {
     "data": {
      "text/plain": [
       "[0.9360614260218281,\n",
       " 1.1867347799728423,\n",
       " 1.2316687429343665,\n",
       " 1.2389883057590145,\n",
       " 1.0561973910281575,\n",
       " 1.1594621281556305,\n",
       " 1.032136255008842,\n",
       " 0.6175072514239766,\n",
       " 0.8459971868729266,\n",
       " 1.0399103780428298,\n",
       " 0.8520765399400387,\n",
       " 0.790638063755722,\n",
       " 1.2603187557937545,\n",
       " 1.2039065409661154,\n",
       " 0.9877359057152368,\n",
       " 0.8087696650754816,\n",
       " 1.2530584223344077,\n",
       " 1.0941837138101818,\n",
       " 1.3192000133199766,\n",
       " 0.9570587322328183]"
      ]
     },
     "execution_count": 182,
     "metadata": {},
     "output_type": "execute_result"
    }
   ],
   "source": [
    "mean_returns"
   ]
  },
  {
   "cell_type": "code",
   "execution_count": 183,
   "metadata": {},
   "outputs": [
    {
     "data": {
      "text/plain": [
       "[0.029334505190713147,\n",
       " 0.03607154410187111,\n",
       " 0.03544551451033938,\n",
       " 0.03776554415923824,\n",
       " 0.03318586541800319,\n",
       " 0.03875404803968028,\n",
       " 0.034527614209426204,\n",
       " 0.036624412328391066,\n",
       " 0.0366577516152992,\n",
       " 0.03909798967006963,\n",
       " 0.03486614391967191,\n",
       " 0.03704206908533911,\n",
       " 0.035501257017314915,\n",
       " 0.035076242845129044,\n",
       " 0.03358820243573443,\n",
       " 0.03491901245248979,\n",
       " 0.034499350511521275,\n",
       " 0.033260304202200025,\n",
       " 0.03662011720804475,\n",
       " 0.03756622955267481]"
      ]
     },
     "execution_count": 183,
     "metadata": {},
     "output_type": "execute_result"
    }
   ],
   "source": [
    "return_volatilities"
   ]
  },
  {
   "cell_type": "markdown",
   "metadata": {},
   "source": [
    "Here we generate the remaining $N - 1$ securities that we want in our universe by adding random noise to $R_1$. This ensures that our $N - 1$ other assets will be correlated with the base asset because they have some underlying information that is shared.\n",
    "\n",
    "Let's plot what the mean return of each asset looks like:"
   ]
  },
  {
   "cell_type": "code",
   "execution_count": 184,
   "metadata": {},
   "outputs": [
    {
     "data": {
      "text/plain": [
       "array([0, 1, 2, 3, 4, 5, 6, 7])"
      ]
     },
     "execution_count": 184,
     "metadata": {},
     "output_type": "execute_result"
    }
   ],
   "source": [
    "np.arange(8)"
   ]
  },
  {
   "cell_type": "code",
   "execution_count": 185,
   "metadata": {
    "collapsed": false,
    "scrolled": false
   },
   "outputs": [
    {
     "data": {
      "image/png": "[encoded data removed]",
      "text/plain": [
       "<Figure size 640x480 with 1 Axes>"
      ]
     },
     "metadata": {},
     "output_type": "display_data"
    }
   ],
   "source": [
    "plt.bar(np.arange(len(mean_returns)), mean_returns)\n",
    "plt.xlabel('Stock')\n",
    "plt.ylabel('Returns')\n",
    "plt.title('Returns for {0} Random Assets'.format(N));"
   ]
  },
  {
   "cell_type": "code",
   "execution_count": 186,
   "metadata": {},
   "outputs": [],
   "source": [
    "import seaborn as sns\n",
    "import pandas as pd "
   ]
  },
  {
   "cell_type": "code",
   "execution_count": 187,
   "metadata": {},
   "outputs": [
    {
     "name": "stdout",
     "output_type": "stream",
     "text": [
      "\u001b[1;31mSignature:\u001b[0m\n",
      "\u001b[0msns\u001b[0m\u001b[1;33m.\u001b[0m\u001b[0mbarplot\u001b[0m\u001b[1;33m(\u001b[0m\u001b[1;33m\n",
      "\u001b[0m    \u001b[1;33m*\u001b[0m\u001b[1;33m,\u001b[0m\u001b[1;33m\n",
      "\u001b[0m    \u001b[0mx\u001b[0m\u001b[1;33m=\u001b[0m\u001b[1;32mNone\u001b[0m\u001b[1;33m,\u001b[0m\u001b[1;33m\n",
      "\u001b[0m    \u001b[0my\u001b[0m\u001b[1;33m=\u001b[0m\u001b[1;32mNone\u001b[0m\u001b[1;33m,\u001b[0m\u001b[1;33m\n",
      "\u001b[0m    \u001b[0mhue\u001b[0m\u001b[1;33m=\u001b[0m\u001b[1;32mNone\u001b[0m\u001b[1;33m,\u001b[0m\u001b[1;33m\n",
      "\u001b[0m    \u001b[0mdata\u001b[0m\u001b[1;33m=\u001b[0m\u001b[1;32mNone\u001b[0m\u001b[1;33m,\u001b[0m\u001b[1;33m\n",
      "\u001b[0m    \u001b[0morder\u001b[0m\u001b[1;33m=\u001b[0m\u001b[1;32mNone\u001b[0m\u001b[1;33m,\u001b[0m\u001b[1;33m\n",
      "\u001b[0m    \u001b[0mhue_order\u001b[0m\u001b[1;33m=\u001b[0m\u001b[1;32mNone\u001b[0m\u001b[1;33m,\u001b[0m\u001b[1;33m\n",
      "\u001b[0m    \u001b[0mestimator\u001b[0m\u001b[1;33m=\u001b[0m\u001b[1;33m<\u001b[0m\u001b[0mfunction\u001b[0m \u001b[0mmean\u001b[0m \u001b[0mat\u001b[0m \u001b[1;36m0x000002457E24A3B0\u001b[0m\u001b[1;33m>\u001b[0m\u001b[1;33m,\u001b[0m\u001b[1;33m\n",
      "\u001b[0m    \u001b[0mci\u001b[0m\u001b[1;33m=\u001b[0m\u001b[1;36m95\u001b[0m\u001b[1;33m,\u001b[0m\u001b[1;33m\n",
      "\u001b[0m    \u001b[0mn_boot\u001b[0m\u001b[1;33m=\u001b[0m\u001b[1;36m1000\u001b[0m\u001b[1;33m,\u001b[0m\u001b[1;33m\n",
      "\u001b[0m    \u001b[0munits\u001b[0m\u001b[1;33m=\u001b[0m\u001b[1;32mNone\u001b[0m\u001b[1;33m,\u001b[0m\u001b[1;33m\n",
      "\u001b[0m    \u001b[0mseed\u001b[0m\u001b[1;33m=\u001b[0m\u001b[1;32mNone\u001b[0m\u001b[1;33m,\u001b[0m\u001b[1;33m\n",
      "\u001b[0m    \u001b[0morient\u001b[0m\u001b[1;33m=\u001b[0m\u001b[1;32mNone\u001b[0m\u001b[1;33m,\u001b[0m\u001b[1;33m\n",
      "\u001b[0m    \u001b[0mcolor\u001b[0m\u001b[1;33m=\u001b[0m\u001b[1;32mNone\u001b[0m\u001b[1;33m,\u001b[0m\u001b[1;33m\n",
      "\u001b[0m    \u001b[0mpalette\u001b[0m\u001b[1;33m=\u001b[0m\u001b[1;32mNone\u001b[0m\u001b[1;33m,\u001b[0m\u001b[1;33m\n",
      "\u001b[0m    \u001b[0msaturation\u001b[0m\u001b[1;33m=\u001b[0m\u001b[1;36m0.75\u001b[0m\u001b[1;33m,\u001b[0m\u001b[1;33m\n",
      "\u001b[0m    \u001b[0merrcolor\u001b[0m\u001b[1;33m=\u001b[0m\u001b[1;34m'.26'\u001b[0m\u001b[1;33m,\u001b[0m\u001b[1;33m\n",
      "\u001b[0m    \u001b[0merrwidth\u001b[0m\u001b[1;33m=\u001b[0m\u001b[1;32mNone\u001b[0m\u001b[1;33m,\u001b[0m\u001b[1;33m\n",
      "\u001b[0m    \u001b[0mcapsize\u001b[0m\u001b[1;33m=\u001b[0m\u001b[1;32mNone\u001b[0m\u001b[1;33m,\u001b[0m\u001b[1;33m\n",
      "\u001b[0m    \u001b[0mdodge\u001b[0m\u001b[1;33m=\u001b[0m\u001b[1;32mTrue\u001b[0m\u001b[1;33m,\u001b[0m\u001b[1;33m\n",
      "\u001b[0m    \u001b[0max\u001b[0m\u001b[1;33m=\u001b[0m\u001b[1;32mNone\u001b[0m\u001b[1;33m,\u001b[0m\u001b[1;33m\n",
      "\u001b[0m    \u001b[1;33m**\u001b[0m\u001b[0mkwargs\u001b[0m\u001b[1;33m,\u001b[0m\u001b[1;33m\n",
      "\u001b[0m\u001b[1;33m)\u001b[0m\u001b[1;33m\u001b[0m\u001b[1;33m\u001b[0m\u001b[0m\n",
      "\u001b[1;31mDocstring:\u001b[0m\n",
      "Show point estimates and confidence intervals as rectangular bars.\n",
      "\n",
      "A bar plot represents an estimate of central tendency for a numeric\n",
      "variable with the height of each rectangle and provides some indication of\n",
      "the uncertainty around that estimate using error bars. Bar plots include 0\n",
      "in the quantitative axis range, and they are a good choice when 0 is a\n",
      "meaningful value for the quantitative variable, and you want to make\n",
      "comparisons against it.\n",
      "\n",
      "For datasets where 0 is not a meaningful value, a point plot will allow you\n",
      "to focus on differences between levels of one or more categorical\n",
      "variables.\n",
      "\n",
      "It is also important to keep in mind that a bar plot shows only the mean\n",
      "(or other estimator) value, but in many cases it may be more informative to\n",
      "show the distribution of values at each level of the categorical variables.\n",
      "In that case, other approaches such as a box or violin plot may be more\n",
      "appropriate.\n",
      "\n",
      "\n",
      "Input data can be passed in a variety of formats, including:\n",
      "\n",
      "- Vectors of data represented as lists, numpy arrays, or pandas Series\n",
      "  objects passed directly to the ``x``, ``y``, and/or ``hue`` parameters.\n",
      "- A \"long-form\" DataFrame, in which case the ``x``, ``y``, and ``hue``\n",
      "  variables will determine how the data are plotted.\n",
      "- A \"wide-form\" DataFrame, such that each numeric column will be plotted.\n",
      "- An array or list of vectors.\n",
      "\n",
      "In most cases, it is possible to use numpy or Python objects, but pandas\n",
      "objects are preferable because the associated names will be used to\n",
      "annotate the axes. Additionally, you can use Categorical types for the\n",
      "grouping variables to control the order of plot elements.    \n",
      "\n",
      "This function always treats one of the variables as categorical and\n",
      "draws data at ordinal positions (0, 1, ... n) on the relevant axis, even\n",
      "when the data has a numeric or date type.\n",
      "\n",
      "See the :ref:`tutorial <categorical_tutorial>` for more information.    \n",
      "\n",
      "Parameters\n",
      "----------\n",
      "x, y, hue : names of variables in ``data`` or vector data, optional\n",
      "    Inputs for plotting long-form data. See examples for interpretation.        \n",
      "data : DataFrame, array, or list of arrays, optional\n",
      "    Dataset for plotting. If ``x`` and ``y`` are absent, this is\n",
      "    interpreted as wide-form. Otherwise it is expected to be long-form.    \n",
      "order, hue_order : lists of strings, optional\n",
      "    Order to plot the categorical levels in, otherwise the levels are\n",
      "    inferred from the data objects.        \n",
      "estimator : callable that maps vector -> scalar, optional\n",
      "    Statistical function to estimate within each categorical bin.\n",
      "ci : float or \"sd\" or None, optional\n",
      "    Size of confidence intervals to draw around estimated values.  If\n",
      "    \"sd\", skip bootstrapping and draw the standard deviation of the\n",
      "    observations. If ``None``, no bootstrapping will be performed, and\n",
      "    error bars will not be drawn.\n",
      "n_boot : int, optional\n",
      "    Number of bootstrap iterations to use when computing confidence\n",
      "    intervals.\n",
      "units : name of variable in ``data`` or vector data, optional\n",
      "    Identifier of sampling units, which will be used to perform a\n",
      "    multilevel bootstrap and account for repeated measures design.\n",
      "seed : int, numpy.random.Generator, or numpy.random.RandomState, optional\n",
      "    Seed or random number generator for reproducible bootstrapping.    \n",
      "orient : \"v\" | \"h\", optional\n",
      "    Orientation of the plot (vertical or horizontal). This is usually\n",
      "    inferred based on the type of the input variables, but it can be used\n",
      "    to resolve ambiguity when both `x` and `y` are numeric or when\n",
      "    plotting wide-form data.    \n",
      "color : matplotlib color, optional\n",
      "    Color for all of the elements, or seed for a gradient palette.    \n",
      "palette : palette name, list, or dict\n",
      "    Colors to use for the different levels of the ``hue`` variable. Should\n",
      "    be something that can be interpreted by :func:`color_palette`, or a\n",
      "    dictionary mapping hue levels to matplotlib colors.    \n",
      "saturation : float, optional\n",
      "    Proportion of the original saturation to draw colors at. Large patches\n",
      "    often look better with slightly desaturated colors, but set this to\n",
      "    ``1`` if you want the plot colors to perfectly match the input color\n",
      "    spec.    \n",
      "errcolor : matplotlib color\n",
      "    Color for the lines that represent the confidence interval.\n",
      "errwidth : float, optional\n",
      "    Thickness of error bar lines (and caps).         \n",
      "capsize : float, optional\n",
      "    Width of the \"caps\" on error bars.\n",
      "\n",
      "dodge : bool, optional\n",
      "    When hue nesting is used, whether elements should be shifted along the\n",
      "    categorical axis.    \n",
      "ax : matplotlib Axes, optional\n",
      "    Axes object to draw the plot onto, otherwise uses the current Axes.    \n",
      "kwargs : key, value mappings\n",
      "    Other keyword arguments are passed through to\n",
      "    :meth:`matplotlib.axes.Axes.bar`.\n",
      "\n",
      "Returns\n",
      "-------\n",
      "ax : matplotlib Axes\n",
      "    Returns the Axes object with the plot drawn onto it.    \n",
      "\n",
      "See Also\n",
      "--------\n",
      "countplot : Show the counts of observations in each categorical bin.    \n",
      "pointplot : Show point estimates and confidence intervals using scatterplot\n",
      "            glyphs.    \n",
      "catplot : Combine a categorical plot with a :class:`FacetGrid`.    \n",
      "\n",
      "Examples\n",
      "--------\n",
      "\n",
      "Draw a set of vertical bar plots grouped by a categorical variable:\n",
      "\n",
      ".. plot::\n",
      "    :context: close-figs\n",
      "\n",
      "    >>> import seaborn as sns\n",
      "    >>> sns.set_theme(style=\"whitegrid\")\n",
      "    >>> tips = sns.load_dataset(\"tips\")\n",
      "    >>> ax = sns.barplot(x=\"day\", y=\"total_bill\", data=tips)\n",
      "\n",
      "Draw a set of vertical bars with nested grouping by a two variables:\n",
      "\n",
      ".. plot::\n",
      "    :context: close-figs\n",
      "\n",
      "    >>> ax = sns.barplot(x=\"day\", y=\"total_bill\", hue=\"sex\", data=tips)\n",
      "\n",
      "Draw a set of horizontal bars:\n",
      "\n",
      ".. plot::\n",
      "    :context: close-figs\n",
      "\n",
      "    >>> ax = sns.barplot(x=\"tip\", y=\"day\", data=tips)\n",
      "\n",
      "Control bar order by passing an explicit order:\n",
      "\n",
      ".. plot::\n",
      "    :context: close-figs\n",
      "\n",
      "    >>> ax = sns.barplot(x=\"time\", y=\"tip\", data=tips,\n",
      "    ...                  order=[\"Dinner\", \"Lunch\"])\n",
      "\n",
      "Use median as the estimate of central tendency:\n",
      "\n",
      ".. plot::\n",
      "    :context: close-figs\n",
      "\n",
      "    >>> from numpy import median\n",
      "    >>> ax = sns.barplot(x=\"day\", y=\"tip\", data=tips, estimator=median)\n",
      "\n",
      "Show the standard error of the mean with the error bars:\n",
      "\n",
      ".. plot::\n",
      "    :context: close-figs\n",
      "\n",
      "    >>> ax = sns.barplot(x=\"day\", y=\"tip\", data=tips, ci=68)\n",
      "\n",
      "Show standard deviation of observations instead of a confidence interval:\n",
      "\n",
      ".. plot::\n",
      "    :context: close-figs\n",
      "\n",
      "    >>> ax = sns.barplot(x=\"day\", y=\"tip\", data=tips, ci=\"sd\")\n",
      "\n",
      "Add \"caps\" to the error bars:\n",
      "\n",
      ".. plot::\n",
      "    :context: close-figs\n",
      "\n",
      "    >>> ax = sns.barplot(x=\"day\", y=\"tip\", data=tips, capsize=.2)\n",
      "\n",
      "Use a different color palette for the bars:\n",
      "\n",
      ".. plot::\n",
      "    :context: close-figs\n",
      "\n",
      "    >>> ax = sns.barplot(x=\"size\", y=\"total_bill\", data=tips,\n",
      "    ...                  palette=\"Blues_d\")\n",
      "\n",
      "Use ``hue`` without changing bar position or width:\n",
      "\n",
      ".. plot::\n",
      "    :context: close-figs\n",
      "\n",
      "    >>> tips[\"weekend\"] = tips[\"day\"].isin([\"Sat\", \"Sun\"])\n",
      "    >>> ax = sns.barplot(x=\"day\", y=\"total_bill\", hue=\"weekend\",\n",
      "    ...                  data=tips, dodge=False)\n",
      "\n",
      "Plot all bars in a single color:\n",
      "\n",
      ".. plot::\n",
      "    :context: close-figs\n",
      "\n",
      "    >>> ax = sns.barplot(x=\"size\", y=\"total_bill\", data=tips,\n",
      "    ...                  color=\"salmon\", saturation=.5)\n",
      "\n",
      "Use :meth:`matplotlib.axes.Axes.bar` parameters to control the style.\n",
      "\n",
      ".. plot::\n",
      "    :context: close-figs\n",
      "\n",
      "    >>> ax = sns.barplot(x=\"day\", y=\"total_bill\", data=tips,\n",
      "    ...                  linewidth=2.5, facecolor=(1, 1, 1, 0),\n",
      "    ...                  errcolor=\".2\", edgecolor=\".2\")\n",
      "\n",
      "Use :func:`catplot` to combine a :func:`barplot` and a :class:`FacetGrid`.\n",
      "This allows grouping within additional categorical variables. Using\n",
      ":func:`catplot` is safer than using :class:`FacetGrid` directly, as it\n",
      "ensures synchronization of variable order across facets:\n",
      "\n",
      ".. plot::\n",
      "    :context: close-figs\n",
      "\n",
      "    >>> g = sns.catplot(x=\"sex\", y=\"total_bill\",\n",
      "    ...                 hue=\"smoker\", col=\"time\",\n",
      "    ...                 data=tips, kind=\"bar\",\n",
      "    ...                 height=4, aspect=.7);\n",
      "\u001b[1;31mFile:\u001b[0m      c:\\users\\kemil\\appdata\\local\\programs\\python\\python310\\lib\\site-packages\\seaborn\\categorical.py\n",
      "\u001b[1;31mType:\u001b[0m      function\n"
     ]
    }
   ],
   "source": [
    "sns.barplot?"
   ]
  },
  {
   "cell_type": "code",
   "execution_count": 188,
   "metadata": {},
   "outputs": [
    {
     "data": {
      "text/plain": [
       "array([ 0,  1,  2,  3,  4,  5,  6,  7,  8,  9, 10, 11, 12, 13, 14, 15, 16,\n",
       "       17, 18, 19])"
      ]
     },
     "execution_count": 188,
     "metadata": {},
     "output_type": "execute_result"
    }
   ],
   "source": [
    "stocknum = np.arange(len(mean_returns))\n",
    "stocknum"
   ]
  },
  {
   "cell_type": "code",
   "execution_count": 189,
   "metadata": {},
   "outputs": [],
   "source": [
    "mrdata = pd.DataFrame({'Stock':stocknum,'Mean Returns':mean_returns})"
   ]
  },
  {
   "cell_type": "code",
   "execution_count": 190,
   "metadata": {},
   "outputs": [],
   "source": [
    "meanrdata = pd.DataFrame({'Mean Returns':mean_returns},index=stocknum)"
   ]
  },
  {
   "cell_type": "markdown",
   "metadata": {},
   "source": [
    "pd.DataFrame({'Stock':[stocknum],'Mean Returns': [mean_returns]},index=)"
   ]
  },
  {
   "cell_type": "code",
   "execution_count": 192,
   "metadata": {},
   "outputs": [
    {
     "data": {
      "text/plain": [
       "20"
      ]
     },
     "execution_count": 192,
     "metadata": {},
     "output_type": "execute_result"
    }
   ],
   "source": [
    "N"
   ]
  },
  {
   "cell_type": "markdown",
   "metadata": {},
   "source": [
    "sns.barplot(x='Stock',y='Mean Returns',data=mrdata)\n"
   ]
  },
  {
   "cell_type": "code",
   "execution_count": 193,
   "metadata": {},
   "outputs": [
    {
     "data": {
      "image/png": "[encoded data removed]",
      "text/plain": [
       "<Figure size 640x480 with 1 Axes>"
      ]
     },
     "metadata": {},
     "output_type": "display_data"
    }
   ],
   "source": [
    "from statistics import median\n",
    "\n",
    "\n",
    "sns.set_theme(context='notebook',style='darkgrid',\n",
    "    palette='deep',\n",
    "    font='sans-serif',\n",
    "    font_scale=1,\n",
    "    color_codes=True)\n",
    "\n",
    "ax = sns.barplot(x='Stock',y='Mean Returns', data=mrdata, palette=\"Blues_d\",estimator=median).set(title='Returns for {0} Random Assets'.format(N))\n",
    "\n",
    "\n",
    "#ax.set(title='Returns for {0} Random Assets'.format(N))\n",
    "\n"
   ]
  },
  {
   "cell_type": "markdown",
   "metadata": {},
   "source": [
    "np.random.uni"
   ]
  },
  {
   "cell_type": "markdown",
   "metadata": {},
   "source": [
    "### Calculating Expected Return\n",
    "\n",
    "So we have a universe of stocks. Great! Now let's put them together in a portfolio and calculate its expected return and risk.\n",
    "\n",
    "We will start off by generating $N$ random weights for each asset in our portfolio."
   ]
  },
  {
   "cell_type": "code",
   "execution_count": 194,
   "metadata": {
    "collapsed": false
   },
   "outputs": [
    {
     "name": "stdout",
     "output_type": "stream",
     "text": [
      "[0.12329546 0.48729645 0.71865008 0.38967071 0.75171325 0.92339702\n",
      " 0.34209319 0.51494869 0.6480765  0.30120959 0.14583609 0.23234939\n",
      " 0.9670855  0.30625082 0.03916493 0.72202998 0.05083891 0.21761712\n",
      " 0.28296764 0.77360589]\n",
      "[0.01379437 0.05451904 0.08040303 0.04359661 0.08410216 0.10331025\n",
      " 0.0382736  0.05761279 0.07250721 0.03369952 0.01631623 0.0259954\n",
      " 0.10819814 0.03426354 0.0043818  0.08078117 0.00568789 0.02434714\n",
      " 0.0316586  0.08655152]\n"
     ]
    }
   ],
   "source": [
    "weights = np.random.uniform(0, 1, N)\n",
    "print(weights)\n",
    "weights = weights/np.sum(weights)\n",
    "print(weights)"
   ]
  },
  {
   "cell_type": "markdown",
   "metadata": {},
   "source": [
    "We have to rescale the weights so that they all add up to $1$. We do this by scaling the weights vector by the sum total of all the weights. This step ensures that we will be using $100\\%$ of the portfolio's cash.\n",
    "\n",
    "To calculate the mean return of the portfolio, we have to scale each asset's return by its designated weight. We can pull each element of each array and multiply them individually, but it's quicker to use NumPy's linear algebra methods. The function that we want is `dot()`. This will calculate the dot product between two arrays for us. So if $v = \\left[ 1, 2, 3 \\right]$ and $w = \\left[4, 5, 6 \\right]$, then:\n",
    "\n",
    "$$ v \\cdot w = 1 \\times 4 + 2 \\times 5 + 3 \\times 6 $$\n",
    "\n",
    "For a one-dimensional vector, the dot product will multiply each element pointwise and add all the products together! In our case, we have a vector of weights, $\\omega = \\left[ \\omega_1, \\omega_2, \\dots \\omega_N\\right]$ and a vector of returns, $\\mu = \\left[ \\mu_1, \\mu_2, \\dots, \\mu_N\\right]$. If we take the dot product of these two we will get:\n",
    "\n",
    "$$ \\omega \\cdot \\mu = \\omega_1\\mu_1 + \\omega_2\\mu_2 + \\dots + \\omega_N\\mu_N = \\mu_P $$\n",
    "\n",
    "This yields the sum of all the asset returns scaled by their respective weights. This the the portfolio's overall expected return!"
   ]
  },
  {
   "cell_type": "code",
   "execution_count": null,
   "metadata": {},
   "outputs": [],
   "source": []
  },
  {
   "cell_type": "markdown",
   "metadata": {},
   "source": [
    "TL;DR we have the average returns of 20 stocks and their weights in our portfolio, so we calculate expected profit by multiplying them accordingly, we can use linear algebra, \n",
    "dot product to do it"
   ]
  },
  {
   "cell_type": "code",
   "execution_count": 195,
   "metadata": {
    "collapsed": false
   },
   "outputs": [
    {
     "name": "stdout",
     "output_type": "stream",
     "text": [
      "Expected return of the portfolio: 1.0508333724882426\n"
     ]
    }
   ],
   "source": [
    "p_returns = np.dot(weights, mean_returns)\n",
    "print (\"Expected return of the portfolio:\", p_returns)"
   ]
  },
  {
   "cell_type": "markdown",
   "metadata": {},
   "source": [
    "Calculating the mean return is fairly intuitive and does not require too much explanation of linear algebra. However, calculating the variance of our portfolio requires a bit more background."
   ]
  },
  {
   "cell_type": "markdown",
   "metadata": {},
   "source": [
    "#### Beware of NaN values\n",
    "\n",
    "Most of the time, all of these calculations will work without an issue. However, when working with real data we run the risk of having `nan` values in our arrays. This is NumPy's way of saying that the data there is missing or doesn't exist. These `nan` values can lead to errors in mathematical calculations so it is important to be aware of whether your array contains `nan` values and to know how to drop them."
   ]
  },
  {
   "cell_type": "code",
   "execution_count": 198,
   "metadata": {
    "collapsed": false
   },
   "outputs": [
    {
     "name": "stdout",
     "output_type": "stream",
     "text": [
      "[ 1.  2. nan  4.  5.]\n"
     ]
    }
   ],
   "source": [
    "v = np.array([1, 2, np.nan, 4, 5])\n",
    "print (v)"
   ]
  },
  {
   "cell_type": "markdown",
   "metadata": {},
   "source": [
    "Let's see what happens when we try to take the mean of this array."
   ]
  },
  {
   "cell_type": "code",
   "execution_count": 199,
   "metadata": {
    "collapsed": false
   },
   "outputs": [
    {
     "name": "stdout",
     "output_type": "stream",
     "text": [
      "nan\n"
     ]
    }
   ],
   "source": [
    "print (np.mean(v))"
   ]
  },
  {
   "cell_type": "markdown",
   "metadata": {},
   "source": [
    "Clearly, `nan` values can have a large impact on our calculations. Fortunately, we can check for `nan` values with the `isnan()` function."
   ]
  },
  {
   "cell_type": "code",
   "execution_count": 201,
   "metadata": {
    "collapsed": false
   },
   "outputs": [
    {
     "data": {
      "text/plain": [
       "array([False, False,  True, False, False])"
      ]
     },
     "execution_count": 201,
     "metadata": {},
     "output_type": "execute_result"
    }
   ],
   "source": [
    "np.isnan(v)"
   ]
  },
  {
   "cell_type": "markdown",
   "metadata": {},
   "source": [
    "Calling `isnan()` on an array will call the function on each value of the array, returning a value of `True` if the element is `nan` and `False` if the element is valid. Now, knowing whether your array contains `nan` values is all well and good, but how do we remove `nan`s? Handily enough, NumPy arrays can be indexed by boolean values (`True` or `False`). If we use a boolean array to index an array, we will remove all values of the array that register as `False` under the condition. We use the `isnan()` function in create a boolean array, assigning a `True` value to everything that is *not* `nan` and a `False` to the `nan`s and we use that to index the same array."
   ]
  },
  {
   "cell_type": "code",
   "execution_count": 27,
   "metadata": {
    "collapsed": false
   },
   "outputs": [
    {
     "name": "stdout",
     "output_type": "stream",
     "text": [
      "[ 1.  2.  4.  5.]\n"
     ]
    }
   ],
   "source": [
    "ix = ~np.isnan(v) # the ~ indicates a logical not, inverting the bools\n",
    "print v[ix] # We can also just write v = v[~np.isnan(v)]"
   ]
  },
  {
   "cell_type": "code",
   "execution_count": 28,
   "metadata": {
    "collapsed": false
   },
   "outputs": [
    {
     "name": "stdout",
     "output_type": "stream",
     "text": [
      "3.0\n"
     ]
    }
   ],
   "source": [
    "print np.mean(v[ix])"
   ]
  },
  {
   "cell_type": "markdown",
   "metadata": {},
   "source": [
    "There are a few shortcuts to this process in the form of NumPy functions specifically built to handle them, such as `nanmean()`."
   ]
  },
  {
   "cell_type": "code",
   "execution_count": 202,
   "metadata": {
    "collapsed": false
   },
   "outputs": [
    {
     "name": "stdout",
     "output_type": "stream",
     "text": [
      "\u001b[1;31mSignature:\u001b[0m\n",
      "\u001b[0mnp\u001b[0m\u001b[1;33m.\u001b[0m\u001b[0mnanmean\u001b[0m\u001b[1;33m(\u001b[0m\u001b[1;33m\n",
      "\u001b[0m    \u001b[0ma\u001b[0m\u001b[1;33m,\u001b[0m\u001b[1;33m\n",
      "\u001b[0m    \u001b[0maxis\u001b[0m\u001b[1;33m=\u001b[0m\u001b[1;32mNone\u001b[0m\u001b[1;33m,\u001b[0m\u001b[1;33m\n",
      "\u001b[0m    \u001b[0mdtype\u001b[0m\u001b[1;33m=\u001b[0m\u001b[1;32mNone\u001b[0m\u001b[1;33m,\u001b[0m\u001b[1;33m\n",
      "\u001b[0m    \u001b[0mout\u001b[0m\u001b[1;33m=\u001b[0m\u001b[1;32mNone\u001b[0m\u001b[1;33m,\u001b[0m\u001b[1;33m\n",
      "\u001b[0m    \u001b[0mkeepdims\u001b[0m\u001b[1;33m=\u001b[0m\u001b[1;33m<\u001b[0m\u001b[0mno\u001b[0m \u001b[0mvalue\u001b[0m\u001b[1;33m>\u001b[0m\u001b[1;33m,\u001b[0m\u001b[1;33m\n",
      "\u001b[0m    \u001b[1;33m*\u001b[0m\u001b[1;33m,\u001b[0m\u001b[1;33m\n",
      "\u001b[0m    \u001b[0mwhere\u001b[0m\u001b[1;33m=\u001b[0m\u001b[1;33m<\u001b[0m\u001b[0mno\u001b[0m \u001b[0mvalue\u001b[0m\u001b[1;33m>\u001b[0m\u001b[1;33m,\u001b[0m\u001b[1;33m\n",
      "\u001b[0m\u001b[1;33m)\u001b[0m\u001b[1;33m\u001b[0m\u001b[1;33m\u001b[0m\u001b[0m\n",
      "\u001b[1;31mDocstring:\u001b[0m\n",
      "Compute the arithmetic mean along the specified axis, ignoring NaNs.\n",
      "\n",
      "Returns the average of the array elements.  The average is taken over\n",
      "the flattened array by default, otherwise over the specified axis.\n",
      "`float64` intermediate and return values are used for integer inputs.\n",
      "\n",
      "For all-NaN slices, NaN is returned and a `RuntimeWarning` is raised.\n",
      "\n",
      ".. versionadded:: 1.8.0\n",
      "\n",
      "Parameters\n",
      "----------\n",
      "a : array_like\n",
      "    Array containing numbers whose mean is desired. If `a` is not an\n",
      "    array, a conversion is attempted.\n",
      "axis : {int, tuple of int, None}, optional\n",
      "    Axis or axes along which the means are computed. The default is to compute\n",
      "    the mean of the flattened array.\n",
      "dtype : data-type, optional\n",
      "    Type to use in computing the mean.  For integer inputs, the default\n",
      "    is `float64`; for inexact inputs, it is the same as the input\n",
      "    dtype.\n",
      "out : ndarray, optional\n",
      "    Alternate output array in which to place the result.  The default\n",
      "    is ``None``; if provided, it must have the same shape as the\n",
      "    expected output, but the type will be cast if necessary. See\n",
      "    :ref:`ufuncs-output-type` for more details.\n",
      "keepdims : bool, optional\n",
      "    If this is set to True, the axes which are reduced are left\n",
      "    in the result as dimensions with size one. With this option,\n",
      "    the result will broadcast correctly against the original `a`.\n",
      "\n",
      "    If the value is anything but the default, then\n",
      "    `keepdims` will be passed through to the `mean` or `sum` methods\n",
      "    of sub-classes of `ndarray`.  If the sub-classes methods\n",
      "    does not implement `keepdims` any exceptions will be raised.\n",
      "where : array_like of bool, optional\n",
      "    Elements to include in the mean. See `~numpy.ufunc.reduce` for details.\n",
      "\n",
      "    .. versionadded:: 1.22.0\n",
      "\n",
      "Returns\n",
      "-------\n",
      "m : ndarray, see dtype parameter above\n",
      "    If `out=None`, returns a new array containing the mean values,\n",
      "    otherwise a reference to the output array is returned. Nan is\n",
      "    returned for slices that contain only NaNs.\n",
      "\n",
      "See Also\n",
      "--------\n",
      "average : Weighted average\n",
      "mean : Arithmetic mean taken while not ignoring NaNs\n",
      "var, nanvar\n",
      "\n",
      "Notes\n",
      "-----\n",
      "The arithmetic mean is the sum of the non-NaN elements along the axis\n",
      "divided by the number of non-NaN elements.\n",
      "\n",
      "Note that for floating-point input, the mean is computed using the same\n",
      "precision the input has.  Depending on the input data, this can cause\n",
      "the results to be inaccurate, especially for `float32`.  Specifying a\n",
      "higher-precision accumulator using the `dtype` keyword can alleviate\n",
      "this issue.\n",
      "\n",
      "Examples\n",
      "--------\n",
      ">>> a = np.array([[1, np.nan], [3, 4]])\n",
      ">>> np.nanmean(a)\n",
      "2.6666666666666665\n",
      ">>> np.nanmean(a, axis=0)\n",
      "array([2.,  4.])\n",
      ">>> np.nanmean(a, axis=1)\n",
      "array([1.,  3.5]) # may vary\n",
      "\u001b[1;31mFile:\u001b[0m      c:\\users\\kemil\\appdata\\local\\programs\\python\\python310\\lib\\site-packages\\numpy\\lib\\nanfunctions.py\n",
      "\u001b[1;31mType:\u001b[0m      function\n"
     ]
    }
   ],
   "source": [
    "np.nanmean?"
   ]
  },
  {
   "cell_type": "markdown",
   "metadata": {},
   "source": [
    "The `nanmean()` function simply calculates the mean of the array as if there were no `nan` values at all! There are a few more of these functions, so feel free to read more about them in the [documentation](https://docs.scipy.org/doc/numpy/user/index.html). These indeterminate values are more an issue with data than linear algebra itself so it is helpful that there are ways to handle them."
   ]
  },
  {
   "cell_type": "markdown",
   "metadata": {},
   "source": [
    "### Conclusion\n",
    "\n",
    "Linear algebra is pervasive in finance and in general. For example, the calculation of *optimal* weights according to modern portfolio theory is done using linear algebra techniques. The arrays and functions in NumPy allow us to handle these calculations in an intuitive way. For a quick intro to linear algebra and how to use NumPy to do more significant matrix calculations, proceed to the next section."
   ]
  },
  {
   "cell_type": "markdown",
   "metadata": {},
   "source": [
    "## A brief foray into linear algebra\n",
    "\n",
    "Let's start with a basic overview of some linear algebra. Linear algebra comes down to the multiplication and composition of scalar and matrix values. A scalar value is just a real number that we multiply against an array. When we scale a matrix or array using a scalar, we multiply each individual element of that matrix or array by the scalar.\n",
    "\n",
    "A matrix is a collection of values, typically represented by an $m \\times n$ grid, where $m$ is the number of rows and $n$ is the number of columns. The edge lengths $m$ and $n$ do not necessarily have to be different. If we have $m = n$, we call this a square matrix. A particularly interesting case of a matrix is when $m = 1$ or $n = 1$. In this case we have a special case of a matrix that we call a vector. While there is a matrix object in NumPy we will be doing everything using NumPy arrays because they can have dimensions greater than $2$. For the purpose of this section, we will be using matrix and array interchangeably.\n",
    "\n",
    "We can express the matrix equation as:\n",
    "\n",
    "$$ y = A\\cdot x $$\n",
    "\n",
    "Where $A$ is an $m \\times n$ matrix, $y$ is a $m \\times 1$ vector, and $x$ is a $n \\times 1$ vector. On the right-hand side of the equation we are multiplying a matrix by a vector. This requires a little bit more clarification, lest we think that we can go about multiplying any matrices by any other matrices.\n",
    "\n",
    "#### Matrix multiplication\n",
    "\n",
    "With matrix multiplication, the order in which the matrices are multiplied matters. Multiplying a matrix on the left side by another matrix may be just fine, but multiplying on the right may be undefined."
   ]
  },
  {
   "cell_type": "code",
   "execution_count": 30,
   "metadata": {
    "collapsed": true
   },
   "outputs": [],
   "source": [
    "A = np.array([\n",
    "        [1, 2, 3, 12, 6],\n",
    "        [4, 5, 6, 15, 20],\n",
    "        [7, 8, 9, 10, 10]        \n",
    "    ])\n",
    "B = np.array([\n",
    "        [4, 4, 2],\n",
    "        [2, 3, 1],\n",
    "        [6, 5, 8],\n",
    "        [9, 9, 9]\n",
    "    ])"
   ]
  },
  {
   "cell_type": "markdown",
   "metadata": {},
   "source": [
    "Notice that the above-defined matrices, $A$ and $B$, have different dimensions. $A$ is $3 \\times 5$ and $B$ is $4 \\times 3$. The general rule of what can and cannot be multiplied in which order is based on the dimensions of the matrices. Specifically, the number of columns in the matrix on the left must be equal to the number of rows in the matrix on the right. In super informal terms, let's say that we have an $m \\times n$ matrix and a $p \\times q$ matrix. If we multiply the first by the second on the right, we get the following:\n",
    "\n",
    "$$ (m \\times n) \\cdot (p \\times q) = (m \\times q) $$\n",
    "\n",
    "So the resultant product has the same number of rows as the left matrix and the same number of columns as the right matrix. This limitation of matrix multiplication with regards to dimensions is important to keep track of when writing code. To demonstrate this, we use the `dot()` function to multiply our matrices below:"
   ]
  },
  {
   "cell_type": "code",
   "execution_count": 31,
   "metadata": {
    "collapsed": false
   },
   "outputs": [
    {
     "ename": "ValueError",
     "evalue": "shapes (3,5) and (4,3) not aligned: 5 (dim 1) != 4 (dim 0)",
     "output_type": "error",
     "traceback": [
      "\u001b[1;31m---------------------------------------------------------------------------\u001b[0m",
      "\u001b[1;31mValueError\u001b[0m                                Traceback (most recent call last)",
      "\u001b[1;32m<ipython-input-31-fe00270d1447>\u001b[0m in \u001b[0;36m<module>\u001b[1;34m()\u001b[0m\n\u001b[1;32m----> 1\u001b[1;33m \u001b[1;32mprint\u001b[0m \u001b[0mnp\u001b[0m\u001b[1;33m.\u001b[0m\u001b[0mdot\u001b[0m\u001b[1;33m(\u001b[0m\u001b[0mA\u001b[0m\u001b[1;33m,\u001b[0m \u001b[0mB\u001b[0m\u001b[1;33m)\u001b[0m\u001b[1;33m\u001b[0m\u001b[0m\n\u001b[0m",
      "\u001b[1;31mValueError\u001b[0m: shapes (3,5) and (4,3) not aligned: 5 (dim 1) != 4 (dim 0)"
     ]
    }
   ],
   "source": [
    "print np.dot(A, B)"
   ]
  },
  {
   "cell_type": "markdown",
   "metadata": {},
   "source": [
    "These results make sense in accordance with our rule. Multiplying a $3 \\times 5$ matrix on the right by a $4 \\times 3$ matrix results in an error while multiplying a $4 \\times 3$ matrix on the right by a $3 \\times 5$ matrix results in a $4 \\times 5$ matrix."
   ]
  },
  {
   "cell_type": "code",
   "execution_count": 32,
   "metadata": {
    "collapsed": false
   },
   "outputs": [
    {
     "name": "stdout",
     "output_type": "stream",
     "text": [
      "[[ 34  44  54 128 124]\n",
      " [ 21  27  33  79  82]\n",
      " [ 82 101 120 227 216]\n",
      " [108 135 162 333 324]]\n"
     ]
    }
   ],
   "source": [
    "print np.dot(B, A)"
   ]
  },
  {
   "cell_type": "markdown",
   "metadata": {},
   "source": [
    "### Portfolio Variance\n",
    "\n",
    "Let's return to our portfolio example from before. We calculated the expected return of the portfolio, but how do we calculate the variance? We start by trying to evaluate the portfolio as a sum of each individual asset, scaled by it's weight.\n",
    "\n",
    "$$ VAR[P] = VAR[\\omega_1 S_1 + \\omega_2 S_2 + \\cdots + \\omega_N S_N] $$\n",
    "\n",
    "Where $S_0, \\cdots, S_N$ are the assets contained within our universe. If all of our assets were independent of each other, we could simply evaluate this as\n",
    "\n",
    "$$ VAR[P] = VAR[\\omega_1 S_1] + VAR[\\omega_2 S_2] + \\cdots + VAR[\\omega_N S_N] = \\omega_1^2\\sigma_1^2 + \\omega_2^2\\sigma_2^2 + \\cdots + \\omega_N^2\\sigma_N^2 $$\n",
    "\n",
    "However, all of our assets depend on each other by their construction. They are all in some way related to our base asset and therefore each other. We thus have to calculate the variance of the portfolio by including the individual pairwise covariances of each asset. Our formula for the variance of the portfolio:\n",
    "\n",
    "$$ VAR[P] = \\sigma_P^2 = \\sum_i \\omega_i^2\\sigma_i^2 + \\sum_i\\sum_{i\\neq j} \\omega_i\\omega_j\\sigma_i\\sigma_j\\rho_{i, j}, \\ i, j \\in \\lbrace 1, 2, \\cdots, N \\rbrace $$\n",
    "\n",
    "Where $\\rho_{i,j}$ is the correlation between $S_i$ and $S_j$, $\\rho_{i, j} = \\frac{COV[S_i, S_j]}{\\sigma_i\\sigma_j}$. This seems exceedingly complicated, but we can easily handle all of this using NumPy arrays. First, we calculate the covariance matrix that relates all the individual stocks in our universe."
   ]
  },
  {
   "cell_type": "code",
   "execution_count": 207,
   "metadata": {},
   "outputs": [
    {
     "data": {
      "text/plain": [
       "array([[0.9914098 , 1.03323508, 1.00439939, ..., 0.98565608, 0.98118371,\n",
       "        0.98694374],\n",
       "       [0.98448673, 1.05457103, 1.02553779, ..., 0.94681056, 0.9800396 ,\n",
       "        0.99590933],\n",
       "       [1.01215835, 1.0422031 , 0.99259595, ..., 0.99761118, 0.99370037,\n",
       "        1.00594997],\n",
       "       ...,\n",
       "       [0.97933027, 1.02014388, 1.02924103, ..., 0.98465175, 0.98406721,\n",
       "        1.0001406 ],\n",
       "       [1.03302212, 1.05218753, 1.02663435, ..., 0.97816258, 0.9915166 ,\n",
       "        0.97276593],\n",
       "       [0.96965174, 1.04482035, 1.02238845, ..., 1.02056033, 0.99232743,\n",
       "        0.95230505]])"
      ]
     },
     "execution_count": 207,
     "metadata": {},
     "output_type": "execute_result"
    }
   ],
   "source": [
    "returns"
   ]
  },
  {
   "cell_type": "code",
   "execution_count": 204,
   "metadata": {
    "collapsed": false
   },
   "outputs": [
    {
     "name": "stdout",
     "output_type": "stream",
     "text": [
      "[[0.00086921 0.0008743  0.00086569 0.00089231 0.00082736 0.00096992\n",
      "  0.00089298 0.00089534 0.00091987 0.00096843 0.00081199 0.00086108\n",
      "  0.00088594 0.00086605 0.00086293 0.00085417 0.00080569 0.00079734\n",
      "  0.00091103 0.00092655]\n",
      " [0.0008743  0.0013143  0.000758   0.0009966  0.00083098 0.00098619\n",
      "  0.000854   0.00083316 0.00090426 0.00102505 0.0008796  0.00092435\n",
      "  0.00093094 0.00085564 0.0008217  0.00081258 0.00084726 0.00075526\n",
      "  0.00087038 0.00094062]\n",
      " [0.00086569 0.000758   0.00126908 0.00089952 0.00081721 0.0009824\n",
      "  0.00092077 0.00093448 0.0009451  0.00091744 0.0008298  0.00082865\n",
      "  0.00083118 0.00079008 0.00083261 0.00086001 0.00086651 0.00073796\n",
      "  0.00091091 0.00096646]\n",
      " [0.00089231 0.0009966  0.00089952 0.00144064 0.00084572 0.0010184\n",
      "  0.0008457  0.00092254 0.00085161 0.0009744  0.0009385  0.00085203\n",
      "  0.00090441 0.00082755 0.00086561 0.00087696 0.00080419 0.00079436\n",
      "  0.00091218 0.00099973]\n",
      " [0.00082736 0.00083098 0.00081721 0.00084572 0.00111243 0.00084536\n",
      "  0.00087629 0.0008531  0.00090618 0.00095225 0.00077498 0.00079779\n",
      "  0.00086095 0.00084201 0.00085481 0.00079396 0.00085582 0.00072791\n",
      "  0.00089721 0.00086147]\n",
      " [0.00096992 0.00098619 0.0009824  0.0010184  0.00084536 0.00151705\n",
      "  0.00095716 0.00095963 0.00107797 0.00107078 0.00090917 0.00094081\n",
      "  0.00096321 0.00096665 0.00092735 0.00088124 0.00083215 0.00080903\n",
      "  0.00098155 0.00097349]\n",
      " [0.00089298 0.000854   0.00092077 0.0008457  0.00087629 0.00095716\n",
      "  0.0012042  0.00101393 0.00095699 0.00099152 0.00077842 0.00090031\n",
      "  0.00092452 0.00091819 0.00092349 0.00084784 0.00082131 0.000817\n",
      "  0.00094001 0.00102696]\n",
      " [0.00089534 0.00083316 0.00093448 0.00092254 0.0008531  0.00095963\n",
      "  0.00101393 0.0013549  0.00088646 0.00098159 0.00087104 0.00096394\n",
      "  0.00090585 0.00088123 0.00088257 0.00088753 0.0007825  0.00084869\n",
      "  0.00092689 0.00096135]\n",
      " [0.00091987 0.00090426 0.0009451  0.00085161 0.00090618 0.00107797\n",
      "  0.00095699 0.00088646 0.00135736 0.00100814 0.00075234 0.00091597\n",
      "  0.00097554 0.00093037 0.00084013 0.00085031 0.00092435 0.00083536\n",
      "  0.00104158 0.00094069]\n",
      " [0.00096843 0.00102505 0.00091744 0.0009744  0.00095225 0.00107078\n",
      "  0.00099152 0.00098159 0.00100814 0.00154409 0.00091965 0.00105562\n",
      "  0.0009526  0.00095433 0.00098663 0.00094347 0.00095002 0.00082856\n",
      "  0.00108147 0.00108568]\n",
      " [0.00081199 0.0008796  0.0008298  0.0009385  0.00077498 0.00090917\n",
      "  0.00077842 0.00087104 0.00075234 0.00091965 0.00122793 0.00074808\n",
      "  0.00076151 0.00079153 0.00080549 0.00080652 0.00073187 0.00073805\n",
      "  0.00084813 0.00088859]\n",
      " [0.00086108 0.00092435 0.00082865 0.00085203 0.00079779 0.00094081\n",
      "  0.00090031 0.00096394 0.00091597 0.00105562 0.00074808 0.00138597\n",
      "  0.0008813  0.00092155 0.00087263 0.00076485 0.00078283 0.00076426\n",
      "  0.00089878 0.00087071]\n",
      " [0.00088594 0.00093094 0.00083118 0.00090441 0.00086095 0.00096321\n",
      "  0.00092452 0.00090585 0.00097554 0.0009526  0.00076151 0.0008813\n",
      "  0.00127307 0.00084237 0.00090307 0.00083966 0.0008225  0.0008704\n",
      "  0.00101556 0.00090066]\n",
      " [0.00086605 0.00085564 0.00079008 0.00082755 0.00084201 0.00096665\n",
      "  0.00091819 0.00088123 0.00093037 0.00095433 0.00079153 0.00092155\n",
      "  0.00084237 0.00124277 0.00087136 0.00089749 0.00077161 0.00074957\n",
      "  0.00086286 0.0009444 ]\n",
      " [0.00086293 0.0008217  0.00083261 0.00086561 0.00085481 0.00092735\n",
      "  0.00092349 0.00088257 0.00084013 0.00098663 0.00080549 0.00087263\n",
      "  0.00090307 0.00087136 0.00113956 0.00077936 0.00079113 0.00091532\n",
      "  0.00089587 0.00090717]\n",
      " [0.00085417 0.00081258 0.00086001 0.00087696 0.00079396 0.00088124\n",
      "  0.00084784 0.00088753 0.00085031 0.00094347 0.00080652 0.00076485\n",
      "  0.00083966 0.00089749 0.00077936 0.00123165 0.00077514 0.00077063\n",
      "  0.00088706 0.0009888 ]\n",
      " [0.00080569 0.00084726 0.00086651 0.00080419 0.00085582 0.00083215\n",
      "  0.00082131 0.0007825  0.00092435 0.00095002 0.00073187 0.00078283\n",
      "  0.0008225  0.00077161 0.00079113 0.00077514 0.00120223 0.00068335\n",
      "  0.0008663  0.00089781]\n",
      " [0.00079734 0.00075526 0.00073796 0.00079436 0.00072791 0.00080903\n",
      "  0.000817   0.00084869 0.00083536 0.00082856 0.00073805 0.00076426\n",
      "  0.0008704  0.00074957 0.00091532 0.00077063 0.00068335 0.00111742\n",
      "  0.00080894 0.00075652]\n",
      " [0.00091103 0.00087038 0.00091091 0.00091218 0.00089721 0.00098155\n",
      "  0.00094001 0.00092689 0.00104158 0.00108147 0.00084813 0.00089878\n",
      "  0.00101556 0.00086286 0.00089587 0.00088706 0.0008663  0.00080894\n",
      "  0.00135458 0.0010316 ]\n",
      " [0.00092655 0.00094062 0.00096646 0.00099973 0.00086147 0.00097349\n",
      "  0.00102696 0.00096135 0.00094069 0.00108568 0.00088859 0.00087071\n",
      "  0.00090066 0.0009444  0.00090717 0.0009888  0.00089781 0.00075652\n",
      "  0.0010316  0.00142548]]\n"
     ]
    }
   ],
   "source": [
    "cov_mat = np.cov(returns)\n",
    "print (cov_mat)"
   ]
  },
  {
   "cell_type": "markdown",
   "metadata": {},
   "source": [
    "This array is not formatted particularly nicely, but a covariance matrix is a very important concept. The covariance matrix is of the form:\n",
    "\n",
    "$$ \\left[\\begin{matrix}\n",
    "VAR[S_1] & COV[S_1, S_2] & \\cdots & COV[S_1, S_N] \\\\\n",
    "COV[S_2, S_1] & VAR[S_2] & \\cdots & COV[S_2, S_N] \\\\\n",
    "\\vdots & \\vdots & \\ddots & \\vdots \\\\\n",
    "COV[S_N, S_1] & COV[S_N, S_2] & \\cdots & VAR[S_N]\n",
    "\\end{matrix}\\right] $$\n",
    "\n",
    "So each diagonal entry is the variance of that asset at that index and each off-diagonal holds the covariance of two assets indexed by the column and row number. What is important is that once we have the covariance matrix we are able to do some very quick linear algebra to calculate the variance of the overall portfolio. We can represent the variance of the portfolio in array form as:\n",
    "\n",
    "$$ \\sigma_p^2 = \\omega \\ C \\ \\omega^\\intercal$$\n",
    "\n",
    "Where $C$ is the covariance matrix of all the assets and $\\omega$ is the array containing the weights of each individual asset. The superscript $\\intercal$ on the second $\\omega$ listed above denotes the **transpose** of $\\omega$. For a reference on the evaluation of the variance of a portfolio as a matrix equation, please see the Wikipedia article on [modern portfolio theory](https://en.wikipedia.org/wiki/Modern_portfolio_theory).\n",
    "\n",
    "The transpose of an array is what you get when you switch the rows and columns of an array. This has the effect of reflecting an array across what you might imagine as a diagonal. For example, take our array $A$ from before:"
   ]
  },
  {
   "cell_type": "code",
   "execution_count": null,
   "metadata": {},
   "outputs": [],
   "source": []
  },
  {
   "cell_type": "markdown",
   "metadata": {},
   "source": [
    "reference e.p. chan chapter 6, money and risk mgmt page 111 where we talk about the covariance matrix "
   ]
  },
  {
   "cell_type": "code",
   "execution_count": 34,
   "metadata": {
    "collapsed": false
   },
   "outputs": [
    {
     "name": "stdout",
     "output_type": "stream",
     "text": [
      "[[ 1  2  3 12  6]\n",
      " [ 4  5  6 15 20]\n",
      " [ 7  8  9 10 10]]\n"
     ]
    }
   ],
   "source": [
    "print A"
   ]
  },
  {
   "cell_type": "markdown",
   "metadata": {},
   "source": [
    "The transpose looks like a mirror image of the same array."
   ]
  },
  {
   "cell_type": "code",
   "execution_count": 35,
   "metadata": {
    "collapsed": false
   },
   "outputs": [
    {
     "name": "stdout",
     "output_type": "stream",
     "text": [
      "[[ 1  4  7]\n",
      " [ 2  5  8]\n",
      " [ 3  6  9]\n",
      " [12 15 10]\n",
      " [ 6 20 10]]\n"
     ]
    }
   ],
   "source": [
    "print np.transpose(A)"
   ]
  },
  {
   "cell_type": "markdown",
   "metadata": {},
   "source": [
    "But $\\omega$ here is a 1-dimensional array, a vector! It makes perfect to take the transpose of $A$, a $3 \\times 5$ array, as the output will be a $5 \\times 3$ array, but a 1-dimensional array is not quite as intuitive. A typical 1-dimensional array can be thought of as a $1 \\times n$ horizontal vector. Thus, taking the tranpose of this array essentially means changing it into a $n \\times 1$ vertical vector. This makes sense because 1-dimensional arrays are still arrays and any multiplication done between 1-dimensional and higher dimensional arrays must keep in line with our dimensionality issue of matrix multiplication.\n",
    "\n",
    "To make a long story short, we think of $\\omega$ as $1 \\times N$ since we have $N$ securities. This makes it so that $\\omega^\\intercal$ is $N \\times 1$. Again, our covariance matrix is $N \\times N$. So the overall multiplication works out like so, in informal terms:\n",
    "\n",
    "$$ \\text{Dimensions}(\\sigma_p^2) = \\text{Dimensions}(\\omega C \\omega^\\intercal) = (1 \\times N)\\cdot (N \\times N)\\cdot (N \\times 1) = (1 \\times 1)$$\n",
    "\n",
    "Multiplying the covariance matrix on the left by the plain horizontal vector and on the right by that vector's transpose results in the calculation of a single scalar ($1 \\times 1$) value, our portfolio's variance.\n",
    "\n",
    "So knowing this, let's proceed and calculate the portfolio variance! We can easily calculate the product of these arrays by using `dot()` for matrix multiplication, though this time we have to do it twice."
   ]
  },
  {
   "cell_type": "code",
   "execution_count": 205,
   "metadata": {
    "collapsed": false,
    "scrolled": false
   },
   "outputs": [
    {
     "name": "stdout",
     "output_type": "stream",
     "text": [
      "Portfolio volatility:  0.030555457130377214\n"
     ]
    }
   ],
   "source": [
    "# Calculating the portfolio volatility\n",
    "var_p = np.dot(np.dot(weights, cov_mat), weights.T)\n",
    "vol_p = np.sqrt(var_p)\n",
    "print (\"Portfolio volatility: \", vol_p)"
   ]
  },
  {
   "cell_type": "markdown",
   "metadata": {},
   "source": [
    "To confirm this calculation, let's simply evaluate the volatility of the portfolio using only NumPy functions."
   ]
  },
  {
   "cell_type": "code",
   "execution_count": 206,
   "metadata": {
    "collapsed": false
   },
   "outputs": [
    {
     "name": "stdout",
     "output_type": "stream",
     "text": [
      "Portfolio volatility:  0.03055545713037722\n"
     ]
    }
   ],
   "source": [
    "# Confirming calculation\n",
    "vol_p_alt = np.sqrt(np.var(np.dot(weights, returns), ddof=1))\n",
    "print (\"Portfolio volatility: \", vol_p_alt)"
   ]
  },
  {
   "cell_type": "markdown",
   "metadata": {},
   "source": [
    "The `ddof` parameter is a simple integer input that tells the function the number of degrees of freedom to take into account. This is a more statistical concept, but what this tells us that our matrix calculation is correct!\n",
    "\n",
    "A lot of this might not make sense at first glance. It helps to go back and forth between the theory and the code representations until you have a better grasp of the mathematics involved. It is definitely not necessary to be an expert on linear algebra and on matrix operations, but linear algebra can help to streamline the process of working with large amounts of data. For further reading on NumPy, check out the [documentation](https://docs.scipy.org/doc/numpy/user/index.html)."
   ]
  },
  {
   "cell_type": "markdown",
   "metadata": {},
   "source": [
    "*This presentation is for informational purposes only and does not constitute an offer to sell, a solicitation to buy, or a recommendation for any security; nor does it constitute an offer to provide investment advisory or other services by Quantopian, Inc. (\"Quantopian\"). Nothing contained herein constitutes investment advice or offers any opinion with respect to the suitability of any security, and any views expressed herein should not be taken as advice to buy, sell, or hold any security or as an endorsement of any security or company.  In preparing the information contained herein, Quantopian, Inc. has not taken into account the investment needs, objectives, and financial circumstances of any particular investor. Any views expressed and data illustrated herein were prepared based upon information, believed to be reliable, available to Quantopian, Inc. at the time of publication. Quantopian makes no guarantees as to their accuracy or completeness. All information is subject to change and may quickly become unreliable for various reasons, including changes in market conditions or economic circumstances.*"
   ]
  }
 ],
 "metadata": {
  "kernelspec": {
   "display_name": "Python 3.10.6 64-bit",
   "language": "python",
   "name": "python3"
  },
  "language_info": {
   "codemirror_mode": {
    "name": "ipython",
    "version": 3
   },
   "file_extension": ".py",
   "mimetype": "text/x-python",
   "name": "python",
   "nbconvert_exporter": "python",
   "pygments_lexer": "ipython3",
   "version": "3.10.6"
  },
  "vscode": {
   "interpreter": {
    "hash": "fdd779282eeae192cb9d6816ea19d3d60c86ead145670028888ed8f2dc960bce"
   }
  }
 },
 "nbformat": 4,
 "nbformat_minor": 0
}
