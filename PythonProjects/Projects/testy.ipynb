{
 "cells": [
  {
   "cell_type": "code",
   "execution_count": null,
   "metadata": {},
   "outputs": [],
   "source": []
  }
 ],
 "metadata": {
  "kernelspec": {
   "display_name": "Python 3.10.6 64-bit",
   "language": "python",
   "name": "python3"
  },
  "language_info": {
   "name": "python",
   "version": "3.10.6"
  },
  "orig_nbformat": 4,
  "vscode": {
   "interpreter": {
    "hash": "fdd779282eeae192cb9d6816ea19d3d60c86ead145670028888ed8f2dc960bce"
   }
  }
 },
 "nbformat": 4,
 "nbformat_minor": 2
}
